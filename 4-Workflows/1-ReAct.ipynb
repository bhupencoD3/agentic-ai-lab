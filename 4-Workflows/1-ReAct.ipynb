{
 "cells": [
  {
   "cell_type": "code",
   "execution_count": 7,
   "id": "7ea631e9",
   "metadata": {},
   "outputs": [],
   "source": [
    "import os\n",
    "from langgraph.prebuilt import create_react_agent\n",
    "from langchain.agents import Tool\n",
    "from langchain.tools import WikipediaQueryRun\n",
    "from langchain.utilities import WikipediaAPIWrapper\n",
    "from langchain_community.vectorstores import FAISS\n",
    "from langchain_openai import OpenAIEmbeddings,ChatOpenAI\n",
    "from langchain_community.document_loaders import WebBaseLoader\n",
    "from langchain.text_splitter import RecursiveCharacterTextSplitter\n",
    "from langgraph.graph import START,END,StateGraph\n",
    "from typing import Annotated,TypedDict,Sequence\n",
    "from langchain_core.messages import BaseMessage,HumanMessage,AIMessage\n",
    "from langgraph.graph.message import add_messages"
   ]
  },
  {
   "cell_type": "code",
   "execution_count": 8,
   "id": "8fe7886c",
   "metadata": {},
   "outputs": [],
   "source": [
    "docs=WebBaseLoader(\"https://lilianweng.github.io/posts/2023-06-23-agent/\").load()\n",
    "splitter=RecursiveCharacterTextSplitter(chunk_size=500,chunk_overlap=50)\n",
    "chunks=splitter.split_documents(docs)\n",
    "\n",
    "embedding=OpenAIEmbeddings(model='text-embedding-3-small')\n",
    "vector_store=FAISS.from_documents(chunks,embedding)\n",
    "retriever=vector_store.as_retriever()"
   ]
  },
  {
   "cell_type": "code",
   "execution_count": 9,
   "id": "90d5f0c4",
   "metadata": {},
   "outputs": [],
   "source": [
    "def retriever_tool_func(query:str) -> str:\n",
    "    docs=retriever.invoke(query)\n",
    "    return \"\\n\".join([doc.page_content for doc in docs])"
   ]
  },
  {
   "cell_type": "code",
   "execution_count": 20,
   "id": "143f84df",
   "metadata": {},
   "outputs": [
    {
     "name": "stdout",
     "output_type": "stream",
     "text": [
      "RAGRetriever\n"
     ]
    }
   ],
   "source": [
    "retriever_tool=Tool(\n",
    "    name=\"RAGRetriever\",\n",
    "    description=\"Use this tool to fetch relevant knowledge base info\",\n",
    "    func=retriever_tool_func\n",
    ")\n",
    "print(retriever_tool.name)"
   ]
  },
  {
   "cell_type": "code",
   "execution_count": 11,
   "id": "899572fd",
   "metadata": {},
   "outputs": [
    {
     "data": {
      "text/plain": [
       "WikipediaQueryRun(api_wrapper=WikipediaAPIWrapper(wiki_client=<module 'wikipedia' from '/home/bhupen/miniconda3/envs/agenticai_env/lib/python3.12/site-packages/wikipedia/__init__.py'>, top_k_results=3, lang='en', load_all_available_meta=False, doc_content_chars_max=4000))"
      ]
     },
     "execution_count": 11,
     "metadata": {},
     "output_type": "execute_result"
    }
   ],
   "source": [
    "wiki_tool=WikipediaQueryRun(api_wrapper=WikipediaAPIWrapper())\n",
    "wiki_tool"
   ]
  },
  {
   "cell_type": "code",
   "execution_count": 12,
   "id": "1bdb4941",
   "metadata": {},
   "outputs": [],
   "source": [
    "import os\n",
    "from dotenv import load_dotenv\n",
    "load_dotenv()\n",
    "\n",
    "os.environ['OPENAI_API_KEY']=os.getenv('OPENAI_API_KEY')\n",
    "llm=ChatOpenAI(model='gpt-4o-mini')"
   ]
  },
  {
   "cell_type": "code",
   "execution_count": 13,
   "id": "e6e5ec8e",
   "metadata": {},
   "outputs": [
    {
     "data": {
      "image/png": "[encoded data removed]",
      "text/plain": [
       "<langgraph.graph.state.CompiledStateGraph object at 0x7feda69a5a30>"
      ]
     },
     "execution_count": 13,
     "metadata": {},
     "output_type": "execute_result"
    }
   ],
   "source": [
    "tools=[retriever_tool,wiki_tool]\n",
    "\n",
    "react_node=create_react_agent(llm,tools)\n",
    "react_node"
   ]
  },
  {
   "cell_type": "code",
   "execution_count": 14,
   "id": "b196f40a",
   "metadata": {},
   "outputs": [],
   "source": [
    "class AgentState(TypedDict):\n",
    "    messages:Annotated[Sequence[BaseMessage],add_messages]\n",
    "    "
   ]
  },
  {
   "cell_type": "code",
   "execution_count": 15,
   "id": "bc7d69e1",
   "metadata": {},
   "outputs": [
    {
     "data": {
      "image/png": "[encoded data removed]",
      "text/plain": [
       "<langgraph.graph.state.CompiledStateGraph object at 0x7feda4beb0e0>"
      ]
     },
     "execution_count": 15,
     "metadata": {},
     "output_type": "execute_result"
    }
   ],
   "source": [
    "builder=StateGraph(AgentState)\n",
    "\n",
    "builder.add_node(\"react_agent\",react_node)\n",
    "builder.set_entry_point(\"react_agent\")\n",
    "builder.add_edge(\"react_agent\",END)\n",
    "\n",
    "graph=builder.compile()\n",
    "graph"
   ]
  },
  {
   "cell_type": "code",
   "execution_count": 17,
   "id": "dbc75f83",
   "metadata": {},
   "outputs": [
    {
     "name": "stdout",
     "output_type": "stream",
     "text": [
      "Final answer: ### What is an Agent Loop?\n",
      "\n",
      "An \"agent loop\" typically refers to the cycle through which an autonomous agent interacts with its environment to perform tasks. The general process includes perceiving the environment, processing that information to make decisions, taking actions based on those decisions, and then receiving feedback from the environment to improve future actions. This loop allows the agent to continuously learn and adapt its behavior.\n",
      "\n",
      "While the specific document didn't provide a detailed definition, this cyclical interaction is foundational in the design of intelligent agents, ensuring they can operate autonomously and effectively.\n",
      "\n",
      "### Autonomous Agents as Described by Wikipedia\n",
      "\n",
      "According to Wikipedia, an **autonomous agent** is an artificial intelligence (AI) system that can perform complex tasks independently. This category is a subset of intelligent agents, which are systems that perceive their environment and take actions autonomously to achieve specific goals. Here are some key points about autonomous agents:\n",
      "\n",
      "- **Goal-Directed Behavior**: Autonomous agents operate based on an objective function that encapsulates their goals, allowing them to create and execute plans to maximize expected outcomes.\n",
      "- **Learning and Adaptation**: Many intelligent agents use machine learning to improve their performance and adapt to new information.\n",
      "- **Complexity Range**: Intelligent agents can be simple, like a thermostat, or complex, like humans or organizations, depending on their ability to meet the criteria of autonomy and decision-making.\n",
      "- **Relation to Other Fields**: The concept of intelligent agents is studied not only in AI but also in areas like economics, cognitive science, ethics, and philosophy.\n",
      "- **Software Agents**: They are often likened to software agents, which are autonomous programs that perform tasks on behalf of users.\n",
      "\n",
      "Overall, autonomous agents represent a significant development in AI, enabling systems to manage tasks with minimal human intervention.\n"
     ]
    }
   ],
   "source": [
    "if __name__==\"__main__\":\n",
    "    user_question=\"What is an agent loop and how does wikipedia describe autonomous agents?\"\n",
    "    state={\"messages\":[HumanMessage(content=user_question)]}\n",
    "    final_state=graph.invoke(state)\n",
    "\n",
    "    print(f\"Final answer: {final_state[\"messages\"][-1].content}\")"
   ]
  },
  {
   "cell_type": "markdown",
   "id": "f24cd7c5",
   "metadata": {},
   "source": [
    "### Tools Creation"
   ]
  },
  {
   "cell_type": "code",
   "execution_count": 18,
   "id": "167e3b76",
   "metadata": {},
   "outputs": [],
   "source": [
    "import os\n",
    "from typing import Annotated,Sequence,TypedDict\n",
    "from langchain.agents import Tool\n",
    "from langchain_community.vectorstores import FAISS\n",
    "from langchain_openai import OpenAIEmbeddings,ChatOpenAI\n",
    "from langchain_community.document_loaders import WebBaseLoader,ArxivLoader,TextLoader\n",
    "from langchain.text_splitter import RecursiveCharacterTextSplitter\n",
    "from langchain.tools import WikipediaQueryRun\n",
    "from langchain.utilities import WikipediaAPIWrapper\n",
    "from langgraph.prebuilt import create_react_agent\n",
    "from langgraph.graph import StateGraph,END\n",
    "from langchain_core.messages import BaseMessage,HumanMessage\n",
    "from langgraph.graph.message import add_messages"
   ]
  },
  {
   "cell_type": "code",
   "execution_count": 19,
   "id": "c000bc34",
   "metadata": {},
   "outputs": [
    {
     "data": {
      "text/plain": [
       "ChatOpenAI(client=<openai.resources.chat.completions.completions.Completions object at 0x7feda69a4920>, async_client=<openai.resources.chat.completions.completions.AsyncCompletions object at 0x7feda69a6fc0>, root_client=<openai.OpenAI object at 0x7feda69a5f40>, root_async_client=<openai.AsyncOpenAI object at 0x7feda69a4890>, model_name='gpt-4o-mini', model_kwargs={}, openai_api_key=SecretStr('**********'))"
      ]
     },
     "execution_count": 19,
     "metadata": {},
     "output_type": "execute_result"
    }
   ],
   "source": [
    "llm"
   ]
  },
  {
   "cell_type": "code",
   "execution_count": 22,
   "id": "4c35f9da",
   "metadata": {},
   "outputs": [],
   "source": [
    "def make_retrieval_tool_text(file,name,desc):\n",
    "    docs=TextLoader(file,encoding='utf-8').load()\n",
    "    chunks=RecursiveCharacterTextSplitter(chunk_size=500,chunk_overlap=50).split_documents(docs)\n",
    "    vector_store=FAISS.from_documents(chunks,OpenAIEmbeddings(model='text-embedding-3-small'))\n",
    "    retriever=vector_store.as_retriever\n",
    "\n",
    "    def tool_func(query:str)->str:\n",
    "        print(f\"Using tool: {name}\")\n",
    "        results=retriever.invoke(query)\n",
    "        return \"\\n\\n\".join(doc.page_content for doc in results)\n",
    "    \n",
    "    return Tool(name=name,description=desc,func=tool_func)\n",
    "\n",
    "\n",
    "\n",
    "wiki_tool=Tool(\n",
    "    name=\"Wikipedia\",\n",
    "    description=\"Use this tool to fetch general world knowledge from wikipedia\",\n",
    "    func=WikipediaQueryRun(api_wrapper=WikipediaAPIWrapper())\n",
    ")\n",
    "\n",
    "\n",
    "def arxiv_search(query:str) -> str:\n",
    "    print(\"Searching Arxiv...\")\n",
    "    results=ArxivLoader(query).load()\n",
    "    return \"\\n\\n\".join(doc.page_content[:1000] for doc in results[:2]) or \"No papers found.\"\n",
    "\n",
    "arxiv_tool=Tool(\n",
    "    name=\"ArxivSearch\",\n",
    "    description=\"Use this tool to fetch recent academic papers on technical topics.\",\n",
    "    func=arxiv_search\n",
    ")"
   ]
  },
  {
   "cell_type": "code",
   "execution_count": 23,
   "id": "07f0f9e0",
   "metadata": {},
   "outputs": [
    {
     "data": {
      "text/plain": [
       "Tool(name='InternalTechDocs', description='Search internal tech documents for proprietary architecture and methods', func=<function make_retrieval_tool_text.<locals>.tool_func at 0x7fed928a2200>)"
      ]
     },
     "execution_count": 23,
     "metadata": {},
     "output_type": "execute_result"
    }
   ],
   "source": [
    "internal_tool1=make_retrieval_tool_text(\n",
    "    \"internal_docs.txt\",\n",
    "    \"InternalTechDocs\",\n",
    "    \"Search internal tech documents for proprietary architecture and methods\"\n",
    ")\n",
    "internal_tool1"
   ]
  },
  {
   "cell_type": "code",
   "execution_count": 24,
   "id": "3e9f8907",
   "metadata": {},
   "outputs": [
    {
     "data": {
      "text/plain": [
       "Tool(name='InternalResearchNotes', description='Search internal research notes for experimental results and agent designs.', func=<function make_retrieval_tool_text.<locals>.tool_func at 0x7fed92f77ba0>)"
      ]
     },
     "execution_count": 24,
     "metadata": {},
     "output_type": "execute_result"
    }
   ],
   "source": [
    "internal_tool2=make_retrieval_tool_text(\n",
    "    \"research_notes.txt\",\n",
    "    \"InternalResearchNotes\",\n",
    "    \"Search internal research notes for experimental results and agent designs.\"\n",
    ")\n",
    "internal_tool2"
   ]
  },
  {
   "cell_type": "code",
   "execution_count": 25,
   "id": "5dcf2ede",
   "metadata": {},
   "outputs": [],
   "source": [
    "tools=[wiki_tool,arxiv_tool,internal_tool1,internal_tool2]"
   ]
  },
  {
   "cell_type": "code",
   "execution_count": 27,
   "id": "600255ce",
   "metadata": {},
   "outputs": [
    {
     "data": {
      "image/png": "[encoded data removed]",
      "text/plain": [
       "<langgraph.graph.state.CompiledStateGraph object at 0x7fed92b9fdd0>"
      ]
     },
     "execution_count": 27,
     "metadata": {},
     "output_type": "execute_result"
    }
   ],
   "source": [
    "react_node=create_react_agent(llm,tools)\n",
    "react_node"
   ]
  },
  {
   "cell_type": "code",
   "execution_count": 28,
   "id": "170627cd",
   "metadata": {},
   "outputs": [],
   "source": [
    "class AgentState(TypedDict):\n",
    "    messages:Annotated[Sequence[BaseMessage],add_messages]"
   ]
  },
  {
   "cell_type": "code",
   "execution_count": 29,
   "id": "730a3b2c",
   "metadata": {},
   "outputs": [
    {
     "data": {
      "image/png": "[encoded data removed]",
      "text/plain": [
       "<langgraph.graph.state.CompiledStateGraph object at 0x7fed92ba0200>"
      ]
     },
     "execution_count": 29,
     "metadata": {},
     "output_type": "execute_result"
    }
   ],
   "source": [
    "builder=StateGraph(AgentState)\n",
    "builder.add_node(\"agentic_rag\",react_node)\n",
    "builder.set_entry_point(\"agentic_rag\")\n",
    "builder.add_edge(\"agentic_rag\",END)\n",
    "\n",
    "graph=builder.compile()\n",
    "graph"
   ]
  },
  {
   "cell_type": "code",
   "execution_count": 34,
   "id": "bc5425b1",
   "metadata": {},
   "outputs": [
    {
     "name": "stdout",
     "output_type": "stream",
     "text": [
      "Searching Arxiv...\n",
      "Using tool: InternalResearchNotes\n",
      "Searching Arxiv...\n",
      "Using tool: InternalTechDocs\n",
      "Final Answer: It seems there was an error while trying to retrieve academic papers and internal research notes on \"Ethical and Societal Considerations.\" However, I can summarize some general points regarding this topic based on existing knowledge.\n",
      "\n",
      "### Ethical and Societal Considerations\n",
      "\n",
      "1. **Definition**: Ethical and societal considerations refer to the implications that policies, technologies, and scientific advancements have on individuals, communities, and societies as a whole. This includes moral dilemmas, social justice, and the impact of decisions on human well-being.\n",
      "\n",
      "2. **Importance**: In research and practice, it is crucial to consider ethical and societal factors to ensure that developments are not only scientifically sound but also socially acceptable and beneficial. This helps prevent harm and promotes equity.\n",
      "\n",
      "3. **Key Areas of Focus**:\n",
      "   - **Informed Consent**: Ensuring that participants in research are fully aware of what participating entails and agree to it without coercion.\n",
      "   - **Privacy and Confidentiality**: Protecting personal data, especially in fields like healthcare and social sciences.\n",
      "   - **Impact on Vulnerable Populations**: Considering how certain policies or technologies might disproportionately affect marginalized or disadvantaged groups.\n",
      "   - **Environmental Considerations**: Evaluating the ecological impact of innovations and striving for sustainability.\n",
      "   - **Long-term Consequences**: Understanding the potential long-term societal changes that may arise from technological advancements, such as job displacement or shifts in cultural norms.\n",
      "\n",
      "4. **Regulatory Frameworks**: Many countries have established ethical guidelines and regulatory frameworks to guide researchers and practitioners in considering these factors. This can include Institutional Review Boards (IRBs) and ethical committees.\n",
      "\n",
      "5. **Interdisciplinary Approaches**: The discussion around ethical and societal considerations often involves input from diverse fields such as philosophy, sociology, law, and economics, which enrich the understanding and approaches to these issues.\n",
      "\n",
      "6. **Public Engagement**: Engaging with the public to gather input and address concerns about new technologies or policies is vital for ethical governance and fostering trust. \n",
      "\n",
      "If you have specific areas of interest within \"Ethical and Societal Considerations,\" please let me know, and I can provide more detailed information or seek further data.\n"
     ]
    }
   ],
   "source": [
    "query=\"what does research says about 'Ethical and Societal Considerations'?\"\n",
    "state={\"messages\":[HumanMessage(content=query)]}\n",
    "result=graph.invoke(state)\n",
    "\n",
    "print(f\"Final Answer: {result[\"messages\"][-1].content}\")"
   ]
  }
 ],
 "metadata": {
  "kernelspec": {
   "display_name": "agenticai_env",
   "language": "python",
   "name": "python3"
  },
  "language_info": {
   "codemirror_mode": {
    "name": "ipython",
    "version": 3
   },
   "file_extension": ".py",
   "mimetype": "text/x-python",
   "name": "python",
   "nbconvert_exporter": "python",
   "pygments_lexer": "ipython3",
   "version": "3.12.11"
  }
 },
 "nbformat": 4,
 "nbformat_minor": 5
}
