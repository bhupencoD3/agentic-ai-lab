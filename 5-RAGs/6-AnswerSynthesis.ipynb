{
 "cells": [
  {
   "cell_type": "code",
   "execution_count": 6,
   "id": "fdef0c75",
   "metadata": {},
   "outputs": [],
   "source": [
    "import os\n",
    "from typing import List\n",
    "from pydantic import BaseModel\n",
    "from langchain.chat_models import init_chat_model\n",
    "from langchain.schema import Document\n",
    "from langchain.vectorstores import FAISS\n",
    "from langchain_community.document_loaders.youtube import YoutubeLoader\n",
    "from langchain_community.document_loaders import TextLoader,ArxivLoader\n",
    "from langchain.text_splitter import RecursiveCharacterTextSplitter\n",
    "from langchain.utilities import WikipediaAPIWrapper\n",
    "from langgraph.graph import StateGraph,END\n",
    "from langchain_openai import OpenAIEmbeddings\n",
    "from langchain.tools import WikipediaQueryRun"
   ]
  },
  {
   "cell_type": "code",
   "execution_count": 2,
   "id": "8d8542aa",
   "metadata": {},
   "outputs": [],
   "source": [
    "import os\n",
    "from dotenv import load_dotenv\n",
    "load_dotenv()\n",
    "\n",
    "llm=init_chat_model('groq:gemma2-9b-it')"
   ]
  },
  {
   "cell_type": "code",
   "execution_count": 19,
   "id": "20370c0a",
   "metadata": {},
   "outputs": [],
   "source": [
    "def load_text_retriever(file_path):\n",
    "    docs=TextLoader(file_path,encoding='utf-8').load()\n",
    "    splitter=RecursiveCharacterTextSplitter(chunk_size=500,chunk_overlap=50)\n",
    "    chunks=splitter.split_documents(docs)\n",
    "    vector_store=FAISS.from_documents(chunks,OpenAIEmbeddings(model='text-embedding-3-small'))\n",
    "    return vector_store.as_retriever()"
   ]
  },
  {
   "cell_type": "code",
   "execution_count": 20,
   "id": "b22f58f9",
   "metadata": {},
   "outputs": [],
   "source": [
    "def load_youtube_retriever():\n",
    "    content=\"\"\"\n",
    "This video explains how agentic AI System rely on feedback loops,memory and tool use.\n",
    "It Compares them to traditional pipeline-base LLMs.Temporal reasoning and autonomous tasking are emphasized.\"\"\"\n",
    "    doc=Document(page_content=content,metadata={'source':'youtube'})\n",
    "    vector_store=FAISS.from_documents([doc],OpenAIEmbeddings(model='text-embedding-3-small'))\n",
    "    return vector_store.as_retriever()"
   ]
  },
  {
   "cell_type": "code",
   "execution_count": 21,
   "id": "2d07125d",
   "metadata": {},
   "outputs": [],
   "source": [
    "def wikipedia_search(query:str) -> str:\n",
    "    print(\"Searching Wikipedia...\")\n",
    "    return WikipediaQueryRun(api_wrapper=WikipediaAPIWrapper())(query)\n",
    "\n",
    "def arxiv_search(query:str) -> str:\n",
    "    print(\"Searching arxiv...\")\n",
    "    results=ArxivLoader(query).load()\n",
    "    return \"\\n\\n\".join(doc.page_content for doc in results[:2]) or \"No relevant papers found\""
   ]
  },
  {
   "cell_type": "code",
   "execution_count": 22,
   "id": "121e0fcd",
   "metadata": {},
   "outputs": [],
   "source": [
    "text_retriever=load_text_retriever('research_notes.txt')\n",
    "youtube_retriever=load_youtube_retriever()"
   ]
  },
  {
   "cell_type": "code",
   "execution_count": 23,
   "id": "c43dd093",
   "metadata": {},
   "outputs": [],
   "source": [
    "class MultiSourceRAGState(BaseModel):\n",
    "    question:str\n",
    "    text_docs:List[Document]=[]\n",
    "    yt_docs:List[Document]=[]\n",
    "    wiki_context:str=\"\"\n",
    "    arxiv_context:str=\"\"\n",
    "    final_answer:str=\"\""
   ]
  },
  {
   "cell_type": "code",
   "execution_count": 24,
   "id": "f5ce07ef",
   "metadata": {},
   "outputs": [],
   "source": [
    "def retrieve_text(state:MultiSourceRAGState)->MultiSourceRAGState:\n",
    "    docs=text_retriever.invoke(state.question)\n",
    "    return state.model_copy(update={'text_docs':docs})\n",
    "\n",
    "def retrieve_yt(state:MultiSourceRAGState) -> MultiSourceRAGState:\n",
    "    docs=youtube_retriever.invoke(state.question)\n",
    "    return state.model_copy(update={'yt_docs':docs})\n",
    "\n",
    "def retrieve_wikipedia(state:MultiSourceRAGState)->MultiSourceRAGState:\n",
    "    result=wikipedia_search(state.question)\n",
    "    return state.model_copy(update={'wiki_context':result})\n",
    "\n",
    "def retrieve_arxiv(state:MultiSourceRAGState) -> MultiSourceRAGState:\n",
    "    result=arxiv_search(state.question)\n",
    "    return state.model_copy(update={'arxiv_context':result})"
   ]
  },
  {
   "cell_type": "code",
   "execution_count": 25,
   "id": "9bae0444",
   "metadata": {},
   "outputs": [],
   "source": [
    "def synthesize_answer(state:MultiSourceRAGState) -> MultiSourceRAGState:\n",
    "    context=\"\"\n",
    "    context+=\"\\n\\n[Internal Docs]\\n\" + \"\\n\".join([doc.page_content for doc in state.text_docs])\n",
    "    context+=\"\\n\\n[Youtube Transcript]\\n\" + \"\\n\".join([doc.page_content for doc in state.yt_docs])\n",
    "    context+=\"\\n\\n[wikipedia]\\n\"+state.wiki_context\n",
    "    context+=\"\\n\\n[Arxiv]\\n\"+state.arxiv_context\n",
    "\n",
    "    prompt=f\"\"\"You have retrieved relevant context from multiple sources.Now synthesize a complete and coherent answer.\n",
    "    Question:{state.question}\n",
    "    Context:{context}\n",
    "    \n",
    "    Final Answer:\"\"\"\n",
    "\n",
    "    answer=llm.invoke(prompt).content.strip()\n",
    "    return state.model_copy(update={'final_answer':answer})    "
   ]
  },
  {
   "cell_type": "code",
   "execution_count": 26,
   "id": "32109c25",
   "metadata": {},
   "outputs": [
    {
     "data": {
      "image/png": "[encoded data removed]",
      "text/plain": [
       "<langgraph.graph.state.CompiledStateGraph object at 0x7f3ff0cfda60>"
      ]
     },
     "execution_count": 26,
     "metadata": {},
     "output_type": "execute_result"
    }
   ],
   "source": [
    "builder=StateGraph(MultiSourceRAGState)\n",
    "\n",
    "builder.add_node('retrieve_text',retrieve_text)\n",
    "builder.add_node('retrieve_yt',retrieve_yt)\n",
    "builder.add_node('retrieve_wiki',retrieve_wikipedia)\n",
    "builder.add_node('retrieve_arxiv',retrieve_arxiv)\n",
    "builder.add_node('synthesize',synthesize_answer)\n",
    "\n",
    "builder.set_entry_point('retrieve_text')\n",
    "builder.add_edge('retrieve_text','retrieve_yt')\n",
    "builder.add_edge('retrieve_yt','retrieve_wiki')\n",
    "builder.add_edge('retrieve_arxiv','synthesize')\n",
    "builder.add_edge('synthesize',END)\n",
    "\n",
    "graph=builder.compile()\n",
    "graph"
   ]
  },
  {
   "cell_type": "code",
   "execution_count": 30,
   "id": "b7720cdf",
   "metadata": {},
   "outputs": [
    {
     "name": "stdout",
     "output_type": "stream",
     "text": [
      "Searching Wikipedia...\n",
      "Final Answer:\n",
      " \n"
     ]
    }
   ],
   "source": [
    "question=\"attention is all you need?\"\n",
    "state=MultiSourceRAGState(question=question)\n",
    "result=graph.invoke(state)\n",
    "\n",
    "print(\"Final Answer:\\n\",result['final_answer'])"
   ]
  },
  {
   "cell_type": "code",
   "execution_count": 31,
   "id": "f2ef8eb5",
   "metadata": {},
   "outputs": [
    {
     "data": {
      "text/plain": [
       "{'question': 'attention is all you need?',\n",
       " 'text_docs': [Document(id='a20a6c97-042a-4a1d-a2a8-9935d875bf28', metadata={'source': 'research_notes.txt'}, page_content='The general-purpose nature of attention means it has become a universal primitive for intelligent systems, much like convolution was for vision in the previous era.'),\n",
       "  Document(id='fe3afb0e-c75c-47c5-8ff0-4f89535d44fe', metadata={'source': 'research_notes.txt'}, page_content='story of attention is a case study not just in innovation, but in how a single concept can transform an entire field and shape the future trajectory of technology.'),\n",
       "  Document(id='2bf11de5-a235-4c06-80b2-45ebceb7584b', metadata={'source': 'research_notes.txt'}, page_content='In conclusion, the attention mechanism represents a landmark case in the evolution of artificial intelligence. Its development responded to a clear technical need — capturing long-range dependencies in sequences — and its success catalyzed the creation of the Transformer, which in turn gave rise to the generative AI revolution. From academia to industry, from NLP to vision and beyond, attention has redefined what is possible in deep learning. The story of attention is a case study not just in'),\n",
       "  Document(id='3f70c920-fbc1-46cb-b907-c9775b72e036', metadata={'source': 'research_notes.txt'}, page_content='This case study explores the development, implementation, and impact of attention mechanisms, focusing on their role in revolutionizing natural language processing (NLP) and extending into domains such as vision, reinforcement learning, and multimodal systems.\\nWe trace the origins of attention, examine its mathematical foundation, and discuss how it has changed the trajectory of deep learning research.')],\n",
       " 'yt_docs': [Document(id='d611a27f-99f1-4566-9f1d-f25fd426db4d', metadata={'source': 'youtube'}, page_content='\\nThis video explains how agentic AI System rely on feedback loops,memory and tool use.\\nIt Compares them to traditional pipeline-base LLMs.Temporal reasoning and autonomous tasking are emphasized.')],\n",
       " 'wiki_context': 'Page: Attention Is All You Need\\nSummary: \"Attention Is All You Need\" is a 2017 landmark research paper in machine learning authored by eight scientists working at Google. The paper introduced a new deep learning architecture known as the transformer, based on the attention mechanism proposed in 2014 by Bahdanau et al. It is considered a foundational paper in modern artificial intelligence, and a main contributor to the AI boom, as the transformer approach has become the main architecture of a wide variety of AI, such as large language models. At the time, the focus of the research was on improving Seq2seq techniques for machine translation, but the authors go further in the paper, foreseeing the technique\\'s potential for other tasks like question answering and what is now known as multimodal generative AI.\\nThe paper\\'s title is a reference to the song \"All You Need Is Love\" by the Beatles. The name \"Transformer\" was picked because Jakob Uszkoreit, one of the paper\\'s authors, liked the sound of that word.\\nAn early design document was titled \"Transformers: Iterative Self-Attention and Processing for Various Tasks\", and included an illustration of six characters from the Transformers franchise. The team was named Team Transformer.\\nSome early examples that the team tried their Transformer architecture on included English-to-German translation, generating Wikipedia articles on \"The Transformer\", and parsing. These convinced the team that the Transformer is a general purpose language model, and not just good for translation.\\nAs of 2025, the paper has been cited more than 173,000 times, placing it among top ten most-cited papers of the 21st century.\\n\\n\\n\\nPage: All You Need Is Kill\\nSummary: All You Need Is Kill is a Japanese science fiction light novel by Hiroshi Sakurazaka with illustrations by Yoshitoshi Abe. The book was published in Japanese by Shueisha under their Super Dash Bunko imprint in December 2004, and was later released in English by Viz Media under their Haikasoru imprint. All You Need Is Kill follows a soldier named Keiji Kiriya, who, after dying in a battle with extraterrestrials, is caught in a time loop that makes him live the same day repeatedly, allowing Kiriya to improve his fighting skills.\\nA manga adaptation, written by Ryosuke Takeuchi and illustrated by Takeshi Obata, was serialized in Shueisha\\'s Weekly Young Jump magazine between January and May 2014 and was also published by Viz Media in its Weekly Shonen Jump magazine. In November 2014, the Viz translation was released in a collected edition that included the entire series. A separate graphic novel adaptation, written by Nick Mamatas and illustrated by Lee Ferguson, was released in North America in May 2014. A live-action film adaptation from director Doug Liman starring Tom Cruise and Emily Blunt, titled Edge of Tomorrow, was released in May 2014. The English-language film tie-in edition of the novel also uses this title. An anime film adaptation produced by Studio 4°C has been announced.\\nThe novel was Sakurazaka\\'s breakthrough science fiction novel, earning wide praise from fellow novelists including Yasutaka Tsutsui and Chōhei Kanbayashi and was entered in contention for the Best Japanese Long Work in the 36th Seiun Awards in 2005.\\n\\nPage: Transformer (deep learning architecture)\\nSummary: In deep learning, transformer is a neural network architecture based on the multi-head attention mechanism, in which text is converted to numerical representations called tokens, and each token is converted into a vector via lookup from a word embedding table. At each layer, each token is then contextualized within the scope of the context window with other (unmasked) tokens via a parallel multi-head attention mechanism, allowing the signal for key tokens to be amplified and less important tokens to be diminished. \\nTransformers have the advantage of having no recurrent units, therefore requiring less training time than earlier recurrent neural architectures (RNNs) such as ',\n",
       " 'arxiv_context': '',\n",
       " 'final_answer': ''}"
      ]
     },
     "execution_count": 31,
     "metadata": {},
     "output_type": "execute_result"
    }
   ],
   "source": [
    "result"
   ]
  }
 ],
 "metadata": {
  "kernelspec": {
   "display_name": "agenticai_env",
   "language": "python",
   "name": "python3"
  },
  "language_info": {
   "codemirror_mode": {
    "name": "ipython",
    "version": 3
   },
   "file_extension": ".py",
   "mimetype": "text/x-python",
   "name": "python",
   "nbconvert_exporter": "python",
   "pygments_lexer": "ipython3",
   "version": "3.12.11"
  }
 },
 "nbformat": 4,
 "nbformat_minor": 5
}
