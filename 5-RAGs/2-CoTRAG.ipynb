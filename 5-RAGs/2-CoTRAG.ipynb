{
 "cells": [
  {
   "cell_type": "markdown",
   "id": "f3655d47",
   "metadata": {},
   "source": [
    "#### Chain of Thoughts Implementation with RAG"
   ]
  },
  {
   "cell_type": "code",
   "execution_count": 1,
   "id": "86cd8afb",
   "metadata": {},
   "outputs": [],
   "source": [
    "import os\n",
    "from typing import List\n",
    "from pydantic import BaseModel\n",
    "from langchain.schema import Document\n",
    "from langchain_openai import OpenAIEmbeddings\n",
    "from langchain_community.document_loaders import TextLoader\n",
    "from langchain.vectorstores import FAISS\n",
    "from langchain.text_splitter import RecursiveCharacterTextSplitter\n",
    "from langgraph.graph import StateGraph,END\n",
    "from langchain_groq import ChatGroq"
   ]
  },
  {
   "cell_type": "code",
   "execution_count": 2,
   "id": "81e4bef6",
   "metadata": {},
   "outputs": [
    {
     "data": {
      "text/plain": [
       "True"
      ]
     },
     "execution_count": 2,
     "metadata": {},
     "output_type": "execute_result"
    }
   ],
   "source": [
    "from dotenv import load_dotenv\n",
    "load_dotenv()"
   ]
  },
  {
   "cell_type": "code",
   "execution_count": 3,
   "id": "f402967b",
   "metadata": {},
   "outputs": [],
   "source": [
    "os.environ['OPENAI_API_KEY']=os.getenv('OPENAI_API_KEY')"
   ]
  },
  {
   "cell_type": "code",
   "execution_count": 4,
   "id": "636577f4",
   "metadata": {},
   "outputs": [],
   "source": [
    "docs=TextLoader('research_notes.txt',encoding='utf-8').load()\n",
    "splitter=RecursiveCharacterTextSplitter(chunk_size=500,chunk_overlap=50)\n",
    "chunks=splitter.split_documents(docs)\n",
    "embedding_model=OpenAIEmbeddings(model='text-embedding-3-small')\n",
    "vector_store=FAISS.from_documents(chunks,embedding_model)\n",
    "retriever=vector_store.as_retriever()"
   ]
  },
  {
   "cell_type": "code",
   "execution_count": 5,
   "id": "3dbd4005",
   "metadata": {},
   "outputs": [],
   "source": [
    "llm=ChatGroq(model='gemma2-9b-it')"
   ]
  },
  {
   "cell_type": "code",
   "execution_count": 7,
   "id": "ec67a3c4",
   "metadata": {},
   "outputs": [],
   "source": [
    "class CoTState(BaseModel):\n",
    "    question:str\n",
    "    sub_steps:List[str]=[]\n",
    "    retrieved_docs:List[Document]=[]\n",
    "    answer:str=\"\""
   ]
  },
  {
   "cell_type": "code",
   "execution_count": 8,
   "id": "6979a3a7",
   "metadata": {},
   "outputs": [],
   "source": [
    "def plan_steps(state:CoTState) -> CoTState:\n",
    "    prompt=f\"\"\"Break the question into 2-3 reasoning steps: \\n\\n {state.question}\"\"\"\n",
    "    result=llm.invoke(prompt).content\n",
    "    subq=[line.strip(\"- \") for line in result.split('\\n') if line.strip()]\n",
    "\n",
    "    return state.model_copy(update={\"sub_steps\":subq})"
   ]
  },
  {
   "cell_type": "code",
   "execution_count": 9,
   "id": "03fe0a57",
   "metadata": {},
   "outputs": [],
   "source": [
    "def retrieve_per_step(state:CoTState) -> CoTState:\n",
    "    all_docs=[]\n",
    "    for sub in state.sub_steps:\n",
    "        docs=retriever.invoke(sub)\n",
    "        all_docs.extend(docs)\n",
    "    return state.model_copy(update={'retrieved_docs':all_docs})"
   ]
  },
  {
   "cell_type": "code",
   "execution_count": 10,
   "id": "297f3096",
   "metadata": {},
   "outputs": [],
   "source": [
    "def generate_answer(state:CoTState) -> CoTState:\n",
    "    context=\"\\n\\n\".join([doc.page_content for doc in state.retrieved_docs])\n",
    "    prompt=f\"\"\"\n",
    "You are answering a complex question using reasoning and retrieved documents\n",
    "\n",
    "Question:{state.question}\n",
    "\n",
    "Relevent Information:\n",
    "{context}\n",
    "\n",
    "Now synthesize a well reasoned final answer\"\"\"\n",
    "    \n",
    "    result=llm.invoke(prompt).content.strip()\n",
    "    return state.model_copy(update={'answer':result})"
   ]
  },
  {
   "cell_type": "code",
   "execution_count": 11,
   "id": "3db40b1c",
   "metadata": {},
   "outputs": [
    {
     "data": {
      "image/png": "[encoded data removed]",
      "text/plain": [
       "<langgraph.graph.state.CompiledStateGraph object at 0x7fd500307ec0>"
      ]
     },
     "execution_count": 11,
     "metadata": {},
     "output_type": "execute_result"
    }
   ],
   "source": [
    "builder=StateGraph(CoTState)\n",
    "builder.add_node(\"planner\",plan_steps)\n",
    "builder.add_node(\"retriever\",retrieve_per_step)\n",
    "builder.add_node(\"responder\",generate_answer)\n",
    "builder.set_entry_point(\"planner\")\n",
    "\n",
    "builder.add_edge(\"planner\",\"retriever\")\n",
    "builder.add_edge(\"retriever\",\"responder\")\n",
    "builder.add_edge(\"responder\",END)\n",
    "\n",
    "graph=builder.compile()\n",
    "\n",
    "graph"
   ]
  },
  {
   "cell_type": "code",
   "execution_count": 12,
   "id": "20d7d28c",
   "metadata": {},
   "outputs": [
    {
     "name": "stdout",
     "output_type": "stream",
     "text": [
      "\n",
      " Reasoning Steps: [\"Here's a breakdown of the question into reasoning steps:\", '**Step 1:  Compare Traditional Sequence-to-Sequence Models with Attention**', '*  How do traditional sequence-to-sequence models (like RNN-based ones) handle machine translation?', '*  What are their limitations, especially when dealing with long sentences?', \"**Step 2:  Explain the Attention Mechanism's Role**\", '*  How does the attention mechanism work within a sequence-to-sequence framework?', '*  Specifically, how does it address the limitations of traditional models in:', '*   Handling long sentences?', '*   Aligning words between source and target languages?', '*   Reducing information loss during translation?', '**Step 3:  Connect Attention to Transformer Architectures**', '*  How does the attention mechanism contribute to the effectiveness of Transformer architectures?', '*  Why are Transformers more scalable than recurrent models for machine translation?', 'By breaking down the question this way, you can analyze the strengths of the attention mechanism and its impact on the evolution of machine translation models.']\n",
      "\n",
      " Final Answer: The attention mechanism has revolutionized machine translation and NLP by addressing a fundamental limitation of recurrent neural networks: their struggle with long-range dependencies. \n",
      "\n",
      "Here's how attention improves over traditional sequence-to-sequence models:\n",
      "\n",
      "* **Handling Long Sentences:** Attention allows models to weigh the importance of different words in a sentence, regardless of their distance. This means models can effectively process long, complex sentences by focusing on the most relevant parts, unlike RNNs where information from the beginning of a sequence can fade by the end.\n",
      "* **Aligning Words Across Languages:** In machine translation, attention helps align words in the source and target languages, improving the accuracy and fluency of translations. It allows the model to understand the semantic relationships between words in different sentences.\n",
      "* **Reducing Information Loss:** By selectively focusing on relevant information, attention minimizes information loss during processing. This leads to better performance, especially for tasks involving complex reasoning or understanding nuanced relationships.\n",
      "* **Scaling Effectively:** Transformers, which rely on self-attention, can be parallelized more efficiently than recurrent models. This allows for training on massive datasets and building larger, more powerful models.\n",
      "\n",
      "**Interpretability:**\n",
      "\n",
      "Attention weights provide insights into how models make decisions, making them more interpretable than black-box RNNs. This transparency is crucial for understanding model behavior and building trust.\n",
      "\n",
      "**Impact:**\n",
      "\n",
      "Attention has transformed various fields:\n",
      "\n",
      "* **Machine Translation:** Transformers have achieved state-of-the-art results in machine translation, surpassing previous RNN-based systems.\n",
      "* **Natural Language Processing:** Attention powers models like BERT, GPT, and T5, which excel in tasks like question answering, text summarization, and sentiment analysis.\n",
      "* **Computer Vision:** Vision Transformers (ViT) have demonstrated the power of attention in image recognition and other vision tasks.\n",
      "\n",
      "However, attention also presents challenges:\n",
      "\n",
      "* **Computational Cost:** Training large attention models can be computationally expensive, raising concerns about energy consumption and accessibility.\n",
      "* **Bias Amplification:** Biases present in training data can be amplified by attention mechanisms, leading to unfair or discriminatory outputs.\n",
      "\n",
      "\n",
      "In conclusion, the attention mechanism has been a transformative innovation in AI, enabling models to handle long-range dependencies, improve translation quality, and power new applications. While challenges remain, attention's impact on deep learning is undeniable, shaping the future of AI development.\n"
     ]
    }
   ],
   "source": [
    "if __name__==\"__main__\":\n",
    "    query=\"In the context of machine translation, how does the attention mechanism improve over traditional sequence-to-sequence models, and what role does it play in handling long sentences, aligning words between languages, and reducing information loss, while also enabling Transformer architectures to scale effectively compared to recurrent models?\"\n",
    "    state=CoTState(question=query)\n",
    "    final=graph.invoke(state)\n",
    "\n",
    "    print(\"\\n Reasoning Steps:\",final['sub_steps'])\n",
    "    print(\"\\n Final Answer:\",final['answer'])\n"
   ]
  }
 ],
 "metadata": {
  "kernelspec": {
   "display_name": "agenticai_env",
   "language": "python",
   "name": "python3"
  },
  "language_info": {
   "codemirror_mode": {
    "name": "ipython",
    "version": 3
   },
   "file_extension": ".py",
   "mimetype": "text/x-python",
   "name": "python",
   "nbconvert_exporter": "python",
   "pygments_lexer": "ipython3",
   "version": "3.12.11"
  }
 },
 "nbformat": 4,
 "nbformat_minor": 5
}
