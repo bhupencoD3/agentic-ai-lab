{
 "cells": [
  {
   "cell_type": "code",
   "execution_count": 1,
   "id": "b85e5875",
   "metadata": {},
   "outputs": [
    {
     "data": {
      "text/plain": [
       "True"
      ]
     },
     "execution_count": 1,
     "metadata": {},
     "output_type": "execute_result"
    }
   ],
   "source": [
    "import os\n",
    "from dotenv import load_dotenv\n",
    "load_dotenv()"
   ]
  },
  {
   "cell_type": "code",
   "execution_count": 2,
   "id": "528798e5",
   "metadata": {},
   "outputs": [],
   "source": [
    "from langchain.chat_models import init_chat_model\n",
    "os.environ['TAVILY_API_KEY']=os.getenv('TAVILY_API_KEY')\n",
    "os.environ['OPENAI_API_KEY']=os.getenv('OPENAI_API_KEY')\n",
    "os.environ['GROQ_API_KEY']=os.getenv('GROQ_API_KEY')"
   ]
  },
  {
   "cell_type": "code",
   "execution_count": 5,
   "id": "4039ed73",
   "metadata": {},
   "outputs": [],
   "source": [
    "llm=init_chat_model('groq:gemma2-9b-it')\n",
    "\n",
    "from typing import Annotated\n",
    "from langchain_core import tools\n",
    "from langchain.tools import WikipediaQueryRun\n",
    "from langchain.utilities import WikipediaAPIWrapper\n",
    "from langchain_tavily import TavilySearch"
   ]
  },
  {
   "cell_type": "code",
   "execution_count": 7,
   "id": "99c8f694",
   "metadata": {},
   "outputs": [],
   "source": [
    "from langchain.text_splitter import RecursiveCharacterTextSplitter\n",
    "from langchain.document_loaders import TextLoader\n",
    "from langchain.vectorstores import FAISS\n",
    "from langchain_openai import OpenAIEmbeddings"
   ]
  },
  {
   "cell_type": "code",
   "execution_count": 28,
   "id": "51c486b7",
   "metadata": {},
   "outputs": [
    {
     "data": {
      "text/plain": [
       "Tool(name='InternalResearchNotes', description='Search internal research notes for experimental results', func=<function make_retriever_tool_from_text.<locals>.tool_func at 0x7f227165a8e0>)"
      ]
     },
     "execution_count": 28,
     "metadata": {},
     "output_type": "execute_result"
    }
   ],
   "source": [
    "from langchain.agents import Tool\n",
    "tavily_tool=TavilySearch(max_results=5)\n",
    "\n",
    "def make_retriever_tool_from_text(file,name,desc):\n",
    "    docs=TextLoader(file,encoding='utf-8').load()\n",
    "    chunks=RecursiveCharacterTextSplitter(chunk_size=500,chunk_overlap=100).split_documents(docs)\n",
    "    vector_store=FAISS.from_documents(chunks,OpenAIEmbeddings(model='text-embedding-3-small'))\n",
    "    retriever=vector_store.as_retriever()\n",
    "\n",
    "    def tool_func(query:str) -> str:\n",
    "        print(f\"Using tool: {name}\")\n",
    "        results=retriever.get_relevant_documents(query)[:3]\n",
    "        return \"\\n\\n\".join(doc.page_content for doc in results)\n",
    "    \n",
    "    return Tool(name=name,description=desc,func=tool_func)\n",
    "\n",
    "internal_tool_1=make_retriever_tool_from_text('research_notes.txt','InternalResearchNotes','Search internal research notes for experimental results')\n",
    "\n",
    "\n",
    "internal_tool_1"
   ]
  },
  {
   "cell_type": "code",
   "execution_count": 41,
   "id": "c648ecdf",
   "metadata": {},
   "outputs": [],
   "source": [
    "from langchain_core.messages import BaseMessage,HumanMessage\n",
    "from langgraph.prebuilt import create_react_agent\n",
    "from langgraph.graph import MessagesState,END\n",
    "from langgraph.types import Command\n",
    "\n",
    "\n",
    "def get_next_node(last_message:BaseMessage,goto:str):\n",
    "    if 'FINAL ANSWER' in last_message.content:\n",
    "        return END\n",
    "    return goto"
   ]
  },
  {
   "cell_type": "code",
   "execution_count": 42,
   "id": "cbe9852b",
   "metadata": {},
   "outputs": [],
   "source": [
    "def make_system_prompt(suffix:str)->str:\n",
    "    return (\n",
    "        \"You are a helpful AI assistant,collaborating with other assistants.\"\n",
    "        \"Use the provided tools to progress towards answering the question.\"\n",
    "        \"If you are unable to fully answer,thats OK,another assistant with different tools.\"\n",
    "        \"will help where you left off.Execute what you can do to make progress.\"\n",
    "        \"If you or any of the other assistants have the final answer or deliverable.\"\n",
    "        \"prefix your response with FINAL ANSWER so the team knows how to stop.\"\n",
    "        f\"\\n{suffix}\"\n",
    "    )"
   ]
  },
  {
   "cell_type": "code",
   "execution_count": 43,
   "id": "34fe38d1",
   "metadata": {},
   "outputs": [
    {
     "data": {
      "image/png": "[encoded data removed]",
      "text/plain": [
       "<langgraph.graph.state.CompiledStateGraph object at 0x7f2270e9a0f0>"
      ]
     },
     "execution_count": 43,
     "metadata": {},
     "output_type": "execute_result"
    }
   ],
   "source": [
    "research_agent=create_react_agent(llm,\n",
    "                                  tools=[internal_tool_1,tavily_tool],\n",
    "                                  prompt=make_system_prompt(\"You can only do research,Use the tool that you are binded with,you can use both of them\"\\\n",
    "                                                            \"You are working with a content writer colleague.\"))\n",
    "\n",
    "research_agent"
   ]
  },
  {
   "cell_type": "code",
   "execution_count": 44,
   "id": "1e1f3540",
   "metadata": {},
   "outputs": [],
   "source": [
    "from typing import Literal"
   ]
  },
  {
   "cell_type": "code",
   "execution_count": 45,
   "id": "3af87929",
   "metadata": {},
   "outputs": [],
   "source": [
    "def research_node(state:MessagesState)->Command[Literal['blog_generator',END]]:\n",
    "    result=research_agent.invoke(state)\n",
    "    goto=get_next_node(result['messages'][-1],'blog_generator')\n",
    "\n",
    "    # wrap in a human message,as not all providers allow\n",
    "    # AI message at the last position of the input messages list\n",
    "    result['messages'][-1]=HumanMessage(\n",
    "        content=result['messages'][-1].content,name='researcher'\n",
    "    )\n",
    "    \n",
    "    return Command(\n",
    "        update={\n",
    "            'messages':result['messages'],\n",
    "        },\n",
    "        goto=goto,\n",
    "    )"
   ]
  },
  {
   "cell_type": "code",
   "execution_count": 46,
   "id": "c672ab1d",
   "metadata": {},
   "outputs": [],
   "source": [
    "blog_agent=create_react_agent(\n",
    "    llm,tools=[],\n",
    "    prompt=make_system_prompt(\n",
    "        \"you can only write a detailed blog. You are working with a researcher colleague.\"\n",
    "    )\n",
    ")\n",
    "\n",
    "def blog_node(state:MessagesState)->Command[Literal['researcher',END]]:\n",
    "    result=blog_agent.invoke(state)\n",
    "    goto=get_next_node(result['messages'][-1],'researcher')\n",
    "\n",
    "    # wrap in a human message,as not all providers allow\n",
    "    # AI message at the last position of the input messages list\n",
    "    result['messages'][-1]=HumanMessage(\n",
    "        content=result['messages'][-1].content,name='blog_generator'\n",
    "    )\n",
    "    \n",
    "    return Command(\n",
    "        update={\n",
    "            'messages':result['messages'],\n",
    "        },\n",
    "        goto=goto,\n",
    "    )\n"
   ]
  },
  {
   "cell_type": "code",
   "execution_count": 50,
   "id": "955ba36c",
   "metadata": {},
   "outputs": [
    {
     "data": {
      "image/png": "[encoded data removed]",
      "text/plain": [
       "<langgraph.graph.state.CompiledStateGraph object at 0x7f2270cf4bc0>"
      ]
     },
     "execution_count": 50,
     "metadata": {},
     "output_type": "execute_result"
    }
   ],
   "source": [
    "from langgraph.graph import StateGraph,START\n",
    "\n",
    "workflow=StateGraph(MessagesState)\n",
    "workflow.add_node('researcher',research_node)\n",
    "workflow.add_node('blog_generator',blog_node)\n",
    "\n",
    "workflow.add_edge(START,'researcher')\n",
    "graph=workflow.compile()\n",
    "graph"
   ]
  },
  {
   "cell_type": "markdown",
   "id": "b6e87c43",
   "metadata": {},
   "source": [
    "##### SupervisorAgent"
   ]
  },
  {
   "cell_type": "code",
   "execution_count": 51,
   "id": "f9f67014",
   "metadata": {},
   "outputs": [
    {
     "data": {
      "text/plain": [
       "TavilySearch(max_results=3, api_wrapper=TavilySearchAPIWrapper(tavily_api_key=SecretStr('**********'), api_base_url=None))"
      ]
     },
     "execution_count": 51,
     "metadata": {},
     "output_type": "execute_result"
    }
   ],
   "source": [
    "from langchain_tavily import TavilySearch\n",
    "web_search=TavilySearch(max_results=3)\n",
    "web_search"
   ]
  },
  {
   "cell_type": "code",
   "execution_count": 52,
   "id": "7d19eae7",
   "metadata": {},
   "outputs": [
    {
     "data": {
      "text/plain": [
       "Tool(name='InternalResearchNotes', description='Search internal research notes for experimental results', func=<function make_retriever_tool_from_text.<locals>.tool_func at 0x7f227165a8e0>)"
      ]
     },
     "execution_count": 52,
     "metadata": {},
     "output_type": "execute_result"
    }
   ],
   "source": [
    "internal_tool_1"
   ]
  },
  {
   "cell_type": "code",
   "execution_count": 53,
   "id": "1284a97a",
   "metadata": {},
   "outputs": [
    {
     "data": {
      "image/png": "[encoded data removed]",
      "text/plain": [
       "<langgraph.graph.state.CompiledStateGraph object at 0x7f2270fb7590>"
      ]
     },
     "execution_count": 53,
     "metadata": {},
     "output_type": "execute_result"
    }
   ],
   "source": [
    "from langgraph.prebuilt import create_react_agent\n",
    "research_agent=create_react_agent(\n",
    "    model=llm,\n",
    "    tools=[web_search,internal_tool_1],\n",
    "    prompt=(\n",
    "        \"You are a research agent.\\n\\n\"\n",
    "        \"INSTRCUTION:\\n\"\n",
    "        \"- Assist ONLY with research-related tasks,DO NOT do any math\\n\"\n",
    "        \"-After you're done with your tasks,respond to the supervisor directly\\n\"\n",
    "        \"-Respond ONLY with the results of your work,do NOT include ANY other text.\"\n",
    "    ),\n",
    "    name=\"research_agent\"\n",
    ")\n",
    "research_agent"
   ]
  },
  {
   "cell_type": "code",
   "execution_count": 54,
   "id": "b07e5fb0",
   "metadata": {},
   "outputs": [],
   "source": [
    "def add(a:float,b:float):\n",
    "    \"\"\"Add two numbers.\"\"\"\n",
    "    return a+b\n",
    "\n",
    "def multiply(a:float,b:float):\n",
    "    \"\"\"Multiply two numbers\"\"\"\n",
    "    return a*b\n",
    "\n",
    "def divide(a:float,b:float):\n",
    "    \"\"\"Divide two numbers.\"\"\"\n",
    "    return a/b"
   ]
  },
  {
   "cell_type": "code",
   "execution_count": 58,
   "id": "5a459a82",
   "metadata": {},
   "outputs": [],
   "source": [
    "math_agent=create_react_agent(\n",
    "    model=llm,\n",
    "    tools=[add,multiply,divide],\n",
    "    prompt=(\"You are a math agent.\\n\\n\"\n",
    "    \"INSTRUCTION:\\n\"\n",
    "    \"- Assist ONLY with math-related tasks\\n\"\n",
    "    \"- After you're done with your tasks,respond to the supervisor directly\\n\"\n",
    "    \"- Respond ONLY with the results of your work,do NOT include ANY other text.\"),\n",
    "    name=\"math_agent\"\n",
    ")"
   ]
  },
  {
   "cell_type": "code",
   "execution_count": 60,
   "id": "42028cfe",
   "metadata": {},
   "outputs": [
    {
     "data": {
      "image/png": "[encoded data removed]",
      "text/plain": [
       "<langgraph.graph.state.CompiledStateGraph object at 0x7f2270ac1dc0>"
      ]
     },
     "execution_count": 60,
     "metadata": {},
     "output_type": "execute_result"
    }
   ],
   "source": [
    "from langgraph_supervisor import create_supervisor\n",
    "supervisor=create_supervisor(\n",
    "    model=llm,agents=[research_agent,math_agent],\n",
    "    prompt=(\n",
    "        \"You are a supervisor managing two agents:\\n\"\n",
    "        \"- a research agent. Assign research-related tasks to this agent\\n\"\n",
    "        \"- a math agent. Assign math-related tasks to this agent\\n\"\n",
    "        \"Assign work to one agent at a time,do not call agents in parallel.\\n\"\n",
    "        \"Do not do any work yourself\"\n",
    "    ),\n",
    "    add_handoff_back_messages=True,\n",
    "    output_mode=\"full_history\"\n",
    "\n",
    ").compile()\n",
    "\n",
    "supervisor"
   ]
  },
  {
   "cell_type": "code",
   "execution_count": 67,
   "id": "e36e8cc6",
   "metadata": {},
   "outputs": [],
   "source": [
    "response=supervisor.invoke({'messages':\"Get the information about attention mechanism from retriever and then also do additional browse search to get additional info about'attention mechansim'\"})"
   ]
  },
  {
   "cell_type": "code",
   "execution_count": 68,
   "id": "1c5df09c",
   "metadata": {},
   "outputs": [
    {
     "data": {
      "text/plain": [
       "{'messages': [HumanMessage(content=\"Get the information about attention mechanism from retriever and then also do additional browse search to get additional info about'attention mechansim'\", additional_kwargs={}, response_metadata={}, id='012606cf-c073-4b92-a507-30cd3327f202'),\n",
       "  AIMessage(content='', additional_kwargs={'tool_calls': [{'id': 'arbf29mks', 'function': {'arguments': '{}', 'name': 'transfer_to_research_agent'}, 'type': 'function'}]}, response_metadata={'token_usage': {'completion_tokens': 78, 'prompt_tokens': 1073, 'total_tokens': 1151, 'completion_time': 0.141818182, 'prompt_time': 0.020311049, 'queue_time': 0.25190908, 'total_time': 0.162129231}, 'model_name': 'gemma2-9b-it', 'system_fingerprint': 'fp_10c08bf97d', 'service_tier': 'on_demand', 'finish_reason': 'tool_calls', 'logprobs': None}, name='supervisor', id='run--b3787faf-a436-43ad-a750-48d34bb2dd18-0', tool_calls=[{'name': 'transfer_to_research_agent', 'args': {}, 'id': 'arbf29mks', 'type': 'tool_call'}], usage_metadata={'input_tokens': 1073, 'output_tokens': 78, 'total_tokens': 1151}),\n",
       "  ToolMessage(content='Successfully transferred to research_agent', name='transfer_to_research_agent', id='a5606558-2ec6-4318-a607-9378c1e942c0', tool_call_id='arbf29mks'),\n",
       "  AIMessage(content='```json\\n{\\n\\t\"tool_call\": {\\n\\t\\t\"id\": \"pending\",\\n\\t\\t\"type\": \"function\",\\n\\t\\t\"function\": {\\n\\t\\t\\t\"name\": \"tavily_search\"\\n\\t\\t},\\n\\t\\t\"parameters\": {\\n\\t\\t\\t\"query\": \"attention mechanism\"\\n\\t\\t}\\n\\t}\\n}\\n```', additional_kwargs={}, response_metadata={'token_usage': {'completion_tokens': 75, 'prompt_tokens': 3274, 'total_tokens': 3349, 'completion_time': 0.136363636, 'prompt_time': 0.060607885, 'queue_time': 0.261822904, 'total_time': 0.196971521}, 'model_name': 'gemma2-9b-it', 'system_fingerprint': 'fp_10c08bf97d', 'service_tier': 'on_demand', 'finish_reason': 'stop', 'logprobs': None}, name='research_agent', id='run--f5c62ff2-ba08-4f3f-9070-7d0d85063bd6-0', usage_metadata={'input_tokens': 3274, 'output_tokens': 75, 'total_tokens': 3349}),\n",
       "  AIMessage(content='Transferring back to supervisor', additional_kwargs={}, response_metadata={'__is_handoff_back': True}, name='research_agent', id='d9f17d24-86f7-4c6a-8b28-9693ea8c52ea', tool_calls=[{'name': 'transfer_back_to_supervisor', 'args': {}, 'id': 'b81fc4f7-b386-4633-8d5c-73848611b438', 'type': 'tool_call'}]),\n",
       "  ToolMessage(content='Successfully transferred back to supervisor', name='transfer_back_to_supervisor', id='3be7719a-dc32-4ffc-9368-4f6ce53a0048', tool_call_id='b81fc4f7-b386-4633-8d5c-73848611b438'),\n",
       "  AIMessage(content='Attention mechanisms are a crucial part of modern deep learning models, particularly in natural language processing. They allow the model to focus on relevant parts of the input sequence when making predictions.  \\n\\nImagine you\\'re reading a sentence. You don\\'t process every word with the same importance. You pay more attention to key words that carry the main meaning. Attention mechanisms work similarly. They assign \"attention weights\" to each word in the input, indicating its importance. \\n\\nThese weights determine how much influence each word has on the model\\'s output.  Words that are more relevant to the task at hand receive higher attention weights.\\n\\n\\nLet me know if you\\'d like to explore a specific aspect of attention mechanisms in more detail!', additional_kwargs={}, response_metadata={'token_usage': {'completion_tokens': 149, 'prompt_tokens': 1367, 'total_tokens': 1516, 'completion_time': 0.270909091, 'prompt_time': 0.025718155, 'queue_time': 0.253754724, 'total_time': 0.296627246}, 'model_name': 'gemma2-9b-it', 'system_fingerprint': 'fp_10c08bf97d', 'service_tier': 'on_demand', 'finish_reason': 'stop', 'logprobs': None}, name='supervisor', id='run--8096529a-c938-4c29-94a1-a4b9b89c0edb-0', usage_metadata={'input_tokens': 1367, 'output_tokens': 149, 'total_tokens': 1516})]}"
      ]
     },
     "execution_count": 68,
     "metadata": {},
     "output_type": "execute_result"
    }
   ],
   "source": [
    "response"
   ]
  },
  {
   "cell_type": "markdown",
   "id": "26a98dd9",
   "metadata": {},
   "source": [
    "##### HierarichalAgenticRag"
   ]
  },
  {
   "cell_type": "code",
   "execution_count": 69,
   "id": "07f9b510",
   "metadata": {},
   "outputs": [
    {
     "name": "stderr",
     "output_type": "stream",
     "text": [
      "USER_AGENT environment variable not set, consider setting it to identify your requests.\n"
     ]
    }
   ],
   "source": [
    "from typing import Annotated,List\n",
    "from langchain_community.document_loaders import WebBaseLoader\n",
    "from langchain_tavily import TavilySearch\n",
    "from langchain_core.tools import tool\n",
    "\n",
    "tavily_tool=TavilySearch(max_results=5)"
   ]
  },
  {
   "cell_type": "code",
   "execution_count": 70,
   "id": "0c837713",
   "metadata": {},
   "outputs": [],
   "source": [
    "@tool\n",
    "def scrap_webpages(urls:List[str])->str:\n",
    "    \"\"\"Use requests and bs4 to scrape the provided web pages for detailed information.\"\"\"\n",
    "    loader=WebBaseLoader(urls)\n",
    "    docs=loader.load()\n",
    "    return \"\\n\\n\".join(\n",
    "        [\n",
    "            f'<Document name=\"{doc.metadata.get(\"title\",\"\")}>\\n{doc.page_content}\\n</Document>'\n",
    "            for doc in docs\n",
    "        ]\n",
    "    )"
   ]
  },
  {
   "cell_type": "code",
   "execution_count": 71,
   "id": "c45ac4d6",
   "metadata": {},
   "outputs": [],
   "source": [
    "from pathlib import Path\n",
    "from tempfile import TemporaryDirectory\n",
    "from typing import Dict,Optional\n",
    "\n",
    "from langchain_experimental.utilities import PythonREPL\n",
    "from typing_extensions import TypedDict\n",
    "\n",
    "_TEMP_DIRECTORY=TemporaryDirectory()\n",
    "WORKING_DIRECTORY=Path(_TEMP_DIRECTORY.name)\n",
    "\n",
    "@tool\n",
    "def create_outline(\n",
    "    points:Annotated[List[str],\"List of main points or sections.\"],\n",
    "    file_name:Annotated[str,\"File path to save the outline.\"]\n",
    ")->Annotated[str,\"Path of the saved outline file.\"]:\n",
    "    \"\"\"Create and save an outline.\"\"\"\n",
    "    with(WORKING_DIRECTORY/file_name).open('w') as file:\n",
    "        for i,point in enumerate(points):\n",
    "            file.write(f\"{i+1}.{point}\\n\")\n",
    "    return f\"Outline saved to {file_name}\"\n",
    "    \n",
    "\n",
    "@tool\n",
    "def write_document(\n",
    "    content:Annotated[List[str],\"Text content to be written into the document.\"],\n",
    "    file_name:Annotated[str,\"File path to save the document.\"]\n",
    ")->Annotated[str,\"Path of the saved document file.\"]:\n",
    "    \"\"\"Create and save a text document.\"\"\"\n",
    "    with(WORKING_DIRECTORY/file_name).open('w') as file:\n",
    "            file.write(content)\n",
    "    return f\"Document saved to {file_name}\"\n",
    "\n",
    "\n",
    "@tool\n",
    "def edit_document(\n",
    "    file_name:Annotated[str,\"Path of the document to be edited.\"],\n",
    "    inserts:Annotated[Dict[int,str],\"Dictionary where key is the line number (1-indexed) and value is the text to be inserted at that line.\",]\n",
    ")->Annotated[str,\"Path of the edited document file.\"]:\n",
    "    \"\"\"Edit a document by inserting text at specific line numbers\"\"\"\n",
    "    with(WORKING_DIRECTORY/file_name).open('r') as file:\n",
    "            lines=file.readlines()\n",
    "    \n",
    "    sorted_inserts=sorted(inserts.items())\n",
    "\n",
    "    for line_number,text in sorted_inserts:\n",
    "        if 1 <=line_number <= len(lines) + 1:\n",
    "              lines.insert(line_number-1,text+'\\n')\n",
    "        else:\n",
    "             return f\"Error: Line number {line_number} is out of range.\"\n",
    "        \n",
    "    with (WORKING_DIRECTORY/file_name).open('w') as file:\n",
    "         file.writelines(lines)\n",
    "\n",
    "    return f'Document edited and saved to {file_name}'\n"
   ]
  },
  {
   "cell_type": "code",
   "execution_count": 72,
   "id": "1614fc35",
   "metadata": {},
   "outputs": [],
   "source": [
    "repl=PythonREPL()\n",
    "\n",
    "@tool\n",
    "def python_repl_tool(\n",
    "    code:Annotated[str,\"the python code to execute to generate your chart.\"],\n",
    "):\n",
    "    \"\"\"Use this to execute python code.if you want to see the output of a value,\n",
    "    you should print it out with 'print()', This is visible to the user.\"\"\"\n",
    "    try:\n",
    "        result=repl.run(code)\n",
    "    except BaseException as e:\n",
    "        return f\"failed to execute.Error:{repr(e)}\"\n",
    "    return f\"successfully executed:\\n ```python\\n{code}\\n```\\nStdout: {result}\""
   ]
  },
  {
   "cell_type": "code",
   "execution_count": 73,
   "id": "bc808d52",
   "metadata": {},
   "outputs": [],
   "source": [
    "from typing import List,Optional,Literal\n",
    "from langchain_core.language_models.chat_models import BaseChatModel\n",
    "\n",
    "from langgraph.graph import StateGraph,MessagesState,START,END\n",
    "from langgraph.types import Command\n",
    "from langchain_core.messages import HumanMessage,trim_messages\n",
    "\n",
    "class State(MessagesState):\n",
    "    next:str"
   ]
  },
  {
   "cell_type": "code",
   "execution_count": 74,
   "id": "bfda5d07",
   "metadata": {},
   "outputs": [],
   "source": [
    "def make_supervisor_node(llm:BaseChatModel,members:List[str])->str:\n",
    "    options=['FINISH'] + members\n",
    "    system_prompt=(\n",
    "        \"You are a supervisor tasked with managing a conversation between the\"\n",
    "        f\"following workers: {members}.Given the following user request,\"\n",
    "        \"respond with worker to act next,Each worker will perform a\"\n",
    "        \"task and respond with their results and status.when finished\"\n",
    "        \"respond with FINISH\"\n",
    "    )\n",
    "\n",
    "    class Router(TypedDict):\n",
    "        \"\"\"Worker to route to next,if no workers needed,route to FINISH.\"\"\"\n",
    "        next:Literal[*options]\n",
    "\n",
    "    def supervisor_node(state:State) -> Command[Literal[*members,\"__end__\"]]:\n",
    "        \"\"\"An LLM-based router.\"\"\"\n",
    "        messages=[\n",
    "            {'role':'system','context':system_prompt},\n",
    "        ] + state['messages']\n",
    "        response=llm.with_structured_output(Router).invoke(messages)\n",
    "        goto=response['next']\n",
    "        if goto=='FINISH':\n",
    "            goto=END\n",
    "\n",
    "        return Command(goto=goto,update={'next':goto})\n",
    "    return supervisor_node"
   ]
  },
  {
   "cell_type": "code",
   "execution_count": 75,
   "id": "002dfbf7",
   "metadata": {},
   "outputs": [
    {
     "data": {
      "text/plain": [
       "Tool(name='InternalResearchNotes', description='Search internal research notes for experimental results', func=<function make_retriever_tool_from_text.<locals>.tool_func at 0x7f227165a8e0>)"
      ]
     },
     "execution_count": 75,
     "metadata": {},
     "output_type": "execute_result"
    }
   ],
   "source": [
    "internal_tool_1"
   ]
  },
  {
   "cell_type": "code",
   "execution_count": 78,
   "id": "4fe9877f",
   "metadata": {},
   "outputs": [],
   "source": [
    "from langchain_core.messages import HumanMessage\n",
    "from langchain.chat_models import init_chat_model\n",
    "from langgraph.prebuilt import create_react_agent\n",
    "\n",
    "search_agent=create_react_agent(llm,tools=[tavily_tool,internal_tool_1])\n",
    "\n",
    "\n",
    "def search_node(state:State) -> Command[Literal['supervisor']]:\n",
    "    result=search_agent.invoke(state)\n",
    "    return Command(\n",
    "        update={\n",
    "            'messages':[\n",
    "                HumanMessage(content=result['messages'][-1].content,name='search')\n",
    "            ]\n",
    "        },\n",
    "        # we want our workers to ALWAYS 'report back' to the supervisor when done\n",
    "        goto='supervisor',\n",
    "    )\n",
    "\n",
    "def web_scraper_node(state:State) -> Command[Literal['supervisor']]:\n",
    "    result=search_agent.invoke(state)\n",
    "    return Command(\n",
    "        update={\n",
    "            'messages':[\n",
    "                HumanMessage(content=result['messages'][-1].content,name='web_scraper')\n",
    "            ]\n",
    "        },\n",
    "        # we want our workers to ALWAYS 'report back' to the supervisor when done\n",
    "        goto='supervisor',\n",
    "    )\n",
    "\n"
   ]
  },
  {
   "cell_type": "code",
   "execution_count": 79,
   "id": "783b0cd5",
   "metadata": {},
   "outputs": [],
   "source": [
    "research_supervisor_node=make_supervisor_node(llm,['search','web_scraper'])"
   ]
  },
  {
   "cell_type": "code",
   "execution_count": 80,
   "id": "98ac4486",
   "metadata": {},
   "outputs": [
    {
     "data": {
      "image/png": "[encoded data removed]",
      "text/plain": [
       "<langgraph.graph.state.CompiledStateGraph object at 0x7f2270c884d0>"
      ]
     },
     "execution_count": 80,
     "metadata": {},
     "output_type": "execute_result"
    }
   ],
   "source": [
    "research_builder=StateGraph(State)\n",
    "research_builder.add_node('supervisor',research_supervisor_node)\n",
    "research_builder.add_node('search',search_node)\n",
    "research_builder.add_node('web_scraper',web_scraper_node)\n",
    "\n",
    "research_builder.add_edge(START,'supervisor')\n",
    "research_graph=research_builder.compile()\n",
    "research_graph"
   ]
  },
  {
   "cell_type": "code",
   "execution_count": 81,
   "id": "f402b094",
   "metadata": {},
   "outputs": [],
   "source": [
    "@tool\n",
    "def read_document(\n",
    "    file_name:Annotated[str,\"File path to read the document from.\"],\n",
    "    start:Annotated[Optional[int],\"The start line,Default is 0.\"]=None,\n",
    "    end:Annotated[Optional[int],\"The end line,Default is None\"]=None,\n",
    ")->str:\n",
    "    \"\"\"Read the specified document\"\"\"\n",
    "    with(WORKING_DIRECTORY/file_name).open('r') as file:\n",
    "            lines=file.readlines()\n",
    "    \n",
    "    if start is None:\n",
    "          start=0\n",
    "    return \"\\n\".join(lines[start:end])\n"
   ]
  },
  {
   "cell_type": "code",
   "execution_count": null,
   "id": "51c0ae75",
   "metadata": {},
   "outputs": [],
   "source": [
    "doc_writer_agent=create_react_agent(\n",
    "    llm,\n",
    "    tools=[write_document,edit_document,read_document],\n",
    "    prompt=(\n",
    "        \"You can read,write and edit documents based on note-taker's outlines.\"\n",
    "        \"Dont ask follow-up questions.\"\n",
    "    ),\n",
    ")\n",
    "\n",
    "def search_node(state:State) -> Command[Literal['supervisor']]:\n",
    "    result=search_agent.invoke(state)\n",
    "    return Command(\n",
    "        update={\n",
    "            'messages':[\n",
    "                HumanMessage(content=result['messages'][-1].content,name='search')\n",
    "            ]\n",
    "        },\n",
    "        # we want our workers to ALWAYS 'report back' to the supervisor when done\n",
    "        goto='supervisor',\n",
    "    )\n",
    "\n",
    "def doc_writing_node(state:State) -> Command[Literal['supervisor']]:\n",
    "    result=doc_writer_agent.invoke(state)\n",
    "    return Command(\n",
    "        update={\n",
    "            'messages':[\n",
    "                HumanMessage(content=result['messages'][-1].content,name='doc_writer')\n",
    "            ]\n",
    "        },\n",
    "        # we want our workers to ALWAYS 'report back' to the supervisor when done\n",
    "        goto='supervisor',\n",
    "    )"
   ]
  },
  {
   "cell_type": "code",
   "execution_count": 83,
   "id": "652ff7cc",
   "metadata": {},
   "outputs": [],
   "source": [
    "doc_writer_agent=create_react_agent(\n",
    "    llm,\n",
    "    tools=[create_outline,read_document],\n",
    "    prompt=(\n",
    "        \"You can read,documents and create outlines for the document writer.\"\n",
    "        \"Dont ask follow-up questions.\"\n",
    "    ),\n",
    ")\n",
    "\n",
    "\n",
    "def note_taking_node(state:State) -> Command[Literal['supervisor']]:\n",
    "    result=search_agent.invoke(state)\n",
    "    return Command(\n",
    "        update={\n",
    "            'messages':[\n",
    "                HumanMessage(content=result['messages'][-1].content,name='note_taker')\n",
    "            ]\n",
    "        },\n",
    "        # we want our workers to ALWAYS 'report back' to the supervisor when done\n",
    "        goto='supervisor',\n",
    "    )\n"
   ]
  },
  {
   "cell_type": "code",
   "execution_count": 84,
   "id": "46dd2c4c",
   "metadata": {},
   "outputs": [],
   "source": [
    "chart_generating_node=create_react_agent(\n",
    "    llm,\n",
    "    tools=[python_repl_tool,read_document],\n",
    "    \n",
    ")\n",
    "\n",
    "\n",
    "def chart_generating_node(state:State) -> Command[Literal['supervisor']]:\n",
    "    result=search_agent.invoke(state)\n",
    "    return Command(\n",
    "        update={\n",
    "            'messages':[\n",
    "                HumanMessage(content=result['messages'][-1].content,name='chart_generator')\n",
    "            ]\n",
    "        },\n",
    "        # we want our workers to ALWAYS 'report back' to the supervisor when done\n",
    "        goto='supervisor',\n",
    "    )\n"
   ]
  },
  {
   "cell_type": "code",
   "execution_count": 85,
   "id": "6f3c3b6f",
   "metadata": {},
   "outputs": [],
   "source": [
    "doc_writing_supervisor_node=make_supervisor_node(\n",
    "    llm,['doc_writer','note_taker','chart_generator']\n",
    ")"
   ]
  },
  {
   "cell_type": "code",
   "execution_count": 86,
   "id": "7497f86c",
   "metadata": {},
   "outputs": [
    {
     "data": {
      "image/png": "[encoded data removed]",
      "text/plain": [
       "<langgraph.graph.state.CompiledStateGraph object at 0x7f22705343b0>"
      ]
     },
     "execution_count": 86,
     "metadata": {},
     "output_type": "execute_result"
    }
   ],
   "source": [
    "paper_writing_builder=StateGraph(State)\n",
    "paper_writing_builder.add_node('supervisor',doc_writing_supervisor_node)\n",
    "paper_writing_builder.add_node('doc_writer',doc_writing_node)\n",
    "paper_writing_builder.add_node('note_taker',note_taking_node)\n",
    "paper_writing_builder.add_node('chart_generator',chart_generating_node)\n",
    "paper_writing_builder.add_edge(START,'supervisor')\n",
    "\n",
    "\n",
    "research_graph=paper_writing_builder.compile()\n",
    "research_graph"
   ]
  },
  {
   "cell_type": "code",
   "execution_count": 87,
   "id": "ebc5a294",
   "metadata": {},
   "outputs": [
    {
     "data": {
      "text/plain": [
       "<function __main__.make_supervisor_node.<locals>.supervisor_node(state: __main__.State) -> langgraph.types.Command[typing.Literal['research_team', 'writing_team', '__end__']]>"
      ]
     },
     "execution_count": 87,
     "metadata": {},
     "output_type": "execute_result"
    }
   ],
   "source": [
    "from langchain_core.messages import BaseMessage\n",
    "teams_supervisor_node=make_supervisor_node(llm,['research_team','writing_team'])\n",
    "teams_supervisor_node"
   ]
  },
  {
   "cell_type": "code",
   "execution_count": 88,
   "id": "e142d687",
   "metadata": {},
   "outputs": [],
   "source": [
    "def call_research_team(state:State) -> Command[Literal['supervisor']]:\n",
    "    result=search_agent.invoke(state)\n",
    "    return Command(\n",
    "        update={\n",
    "            'messages':[\n",
    "                HumanMessage(content=result['messages'][-1].content,name='research_team')\n",
    "            ]\n",
    "        },\n",
    "        \n",
    "        goto='supervisor',\n",
    "    )\n",
    "\n",
    "def call_paper_writing_node(state:State) -> Command[Literal['supervisor']]:\n",
    "    result=doc_writer_agent.invoke(state)\n",
    "    return Command(\n",
    "        update={\n",
    "            'messages':[\n",
    "                HumanMessage(content=result['messages'][-1].content,name='writing_team')\n",
    "            ]\n",
    "        },\n",
    "        # we want our workers to ALWAYS 'report back' to the supervisor when done\n",
    "        goto='supervisor',\n",
    "    )"
   ]
  },
  {
   "cell_type": "code",
   "execution_count": 90,
   "id": "c1120aad",
   "metadata": {},
   "outputs": [
    {
     "data": {
      "image/png": "[encoded data removed]",
      "text/plain": [
       "<langgraph.graph.state.CompiledStateGraph object at 0x7f22709a34d0>"
      ]
     },
     "execution_count": 90,
     "metadata": {},
     "output_type": "execute_result"
    }
   ],
   "source": [
    "super_builder=StateGraph(State)\n",
    "super_builder.add_node('supervisor',teams_supervisor_node)\n",
    "super_builder.add_node('research_team',call_research_team)\n",
    "super_builder.add_node('writing_team',call_paper_writing_node)\n",
    "\n",
    "super_builder.add_edge(START,'supervisor')\n",
    "\n",
    "\n",
    "super_graph=super_builder.compile()\n",
    "super_graph"
   ]
  }
 ],
 "metadata": {
  "kernelspec": {
   "display_name": "agenticai_env",
   "language": "python",
   "name": "python3"
  },
  "language_info": {
   "codemirror_mode": {
    "name": "ipython",
    "version": 3
   },
   "file_extension": ".py",
   "mimetype": "text/x-python",
   "name": "python",
   "nbconvert_exporter": "python",
   "pygments_lexer": "ipython3",
   "version": "3.12.11"
  }
 },
 "nbformat": 4,
 "nbformat_minor": 5
}
