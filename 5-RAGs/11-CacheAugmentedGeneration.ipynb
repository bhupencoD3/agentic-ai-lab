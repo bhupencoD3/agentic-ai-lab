{
 "cells": [
  {
   "cell_type": "markdown",
   "id": "1c152c7f",
   "metadata": {},
   "source": [
    "#### Cache Augmented Generation"
   ]
  },
  {
   "cell_type": "code",
   "execution_count": 1,
   "id": "2c62f60f",
   "metadata": {},
   "outputs": [
    {
     "data": {
      "text/plain": [
       "True"
      ]
     },
     "execution_count": 1,
     "metadata": {},
     "output_type": "execute_result"
    }
   ],
   "source": [
    "import os\n",
    "from dotenv import load_dotenv\n",
    "load_dotenv()"
   ]
  },
  {
   "cell_type": "code",
   "execution_count": 3,
   "id": "1975cba6",
   "metadata": {},
   "outputs": [],
   "source": [
    "from langchain.chat_models import init_chat_model\n",
    "from langchain_openai import OpenAIEmbeddings\n",
    "\n",
    "embedding_model=OpenAIEmbeddings(model='text-embedding-3-small')\n",
    "llm=init_chat_model('openai:gpt-4o-mini')"
   ]
  },
  {
   "cell_type": "code",
   "execution_count": 4,
   "id": "195081b2",
   "metadata": {},
   "outputs": [],
   "source": [
    "model_cache={}"
   ]
  },
  {
   "cell_type": "code",
   "execution_count": 13,
   "id": "fa46ed6d",
   "metadata": {},
   "outputs": [],
   "source": [
    "import time\n",
    "\n",
    "def cache_model(query):\n",
    "    start_time=time.time()\n",
    "    if model_cache.get(query):\n",
    "        print(\"**CACHE HIT!!!\")\n",
    "        end_time=time.time()\n",
    "        elapsed_time=end_time-start_time\n",
    "        print(f\"EXECUTION TIME: {elapsed_time:.2f} seconds\")\n",
    "        return model_cache.get(query)\n",
    "    else:\n",
    "        print(\"**CACHE MISS - EXECUTING MODEL**\")\n",
    "        start_time=time.time()\n",
    "        response=llm.invoke(query)\n",
    "        end_time=time.time()\n",
    "        elapsed_time=end_time-start_time\n",
    "        print(f\"EXECUTION TIME: {elapsed_time:.2f} seconds\")\n",
    "        model_cache[query]=response\n",
    "        return response"
   ]
  },
  {
   "cell_type": "code",
   "execution_count": 6,
   "id": "2ff9c1bd",
   "metadata": {},
   "outputs": [
    {
     "name": "stdout",
     "output_type": "stream",
     "text": [
      "**CACHE MISS - EXECUTING MODEL**\n",
      "EXECUTION TIME: 1.22 seconds\n"
     ]
    },
    {
     "data": {
      "text/plain": [
       "AIMessage(content='Hello! How can I assist you today?', additional_kwargs={'refusal': None}, response_metadata={'token_usage': {'completion_tokens': 9, 'prompt_tokens': 8, 'total_tokens': 17, 'completion_tokens_details': {'accepted_prediction_tokens': 0, 'audio_tokens': 0, 'reasoning_tokens': 0, 'rejected_prediction_tokens': 0}, 'prompt_tokens_details': {'audio_tokens': 0, 'cached_tokens': 0}}, 'model_name': 'gpt-4o-mini-2024-07-18', 'system_fingerprint': 'fp_560af6e559', 'id': 'chatcmpl-CF2oqzJxGSuUeQbQVd5CbsnlEFPeu', 'service_tier': 'default', 'finish_reason': 'stop', 'logprobs': None}, id='run--637aa0e5-ca00-46a0-9e24-124fb55a7f68-0', usage_metadata={'input_tokens': 8, 'output_tokens': 9, 'total_tokens': 17, 'input_token_details': {'audio': 0, 'cache_read': 0}, 'output_token_details': {'audio': 0, 'reasoning': 0}})"
      ]
     },
     "execution_count": 6,
     "metadata": {},
     "output_type": "execute_result"
    }
   ],
   "source": [
    "response=cache_model('hi')\n",
    "response"
   ]
  },
  {
   "cell_type": "code",
   "execution_count": 7,
   "id": "66d708aa",
   "metadata": {},
   "outputs": [
    {
     "data": {
      "text/plain": [
       "{'hi': AIMessage(content='Hello! How can I assist you today?', additional_kwargs={'refusal': None}, response_metadata={'token_usage': {'completion_tokens': 9, 'prompt_tokens': 8, 'total_tokens': 17, 'completion_tokens_details': {'accepted_prediction_tokens': 0, 'audio_tokens': 0, 'reasoning_tokens': 0, 'rejected_prediction_tokens': 0}, 'prompt_tokens_details': {'audio_tokens': 0, 'cached_tokens': 0}}, 'model_name': 'gpt-4o-mini-2024-07-18', 'system_fingerprint': 'fp_560af6e559', 'id': 'chatcmpl-CF2oqzJxGSuUeQbQVd5CbsnlEFPeu', 'service_tier': 'default', 'finish_reason': 'stop', 'logprobs': None}, id='run--637aa0e5-ca00-46a0-9e24-124fb55a7f68-0', usage_metadata={'input_tokens': 8, 'output_tokens': 9, 'total_tokens': 17, 'input_token_details': {'audio': 0, 'cache_read': 0}, 'output_token_details': {'audio': 0, 'reasoning': 0}})}"
      ]
     },
     "execution_count": 7,
     "metadata": {},
     "output_type": "execute_result"
    }
   ],
   "source": [
    "model_cache"
   ]
  },
  {
   "cell_type": "code",
   "execution_count": 10,
   "id": "38d2bc10",
   "metadata": {},
   "outputs": [
    {
     "name": "stdout",
     "output_type": "stream",
     "text": [
      "** Cache hit\n",
      "EXECUTION TIME: 0.00 seconds\n"
     ]
    },
    {
     "data": {
      "text/plain": [
       "AIMessage(content='Hello! How can I assist you today?', additional_kwargs={'refusal': None}, response_metadata={'token_usage': {'completion_tokens': 9, 'prompt_tokens': 8, 'total_tokens': 17, 'completion_tokens_details': {'accepted_prediction_tokens': 0, 'audio_tokens': 0, 'reasoning_tokens': 0, 'rejected_prediction_tokens': 0}, 'prompt_tokens_details': {'audio_tokens': 0, 'cached_tokens': 0}}, 'model_name': 'gpt-4o-mini-2024-07-18', 'system_fingerprint': 'fp_560af6e559', 'id': 'chatcmpl-CF2oqzJxGSuUeQbQVd5CbsnlEFPeu', 'service_tier': 'default', 'finish_reason': 'stop', 'logprobs': None}, id='run--637aa0e5-ca00-46a0-9e24-124fb55a7f68-0', usage_metadata={'input_tokens': 8, 'output_tokens': 9, 'total_tokens': 17, 'input_token_details': {'audio': 0, 'cache_read': 0}, 'output_token_details': {'audio': 0, 'reasoning': 0}})"
      ]
     },
     "execution_count": 10,
     "metadata": {},
     "output_type": "execute_result"
    }
   ],
   "source": [
    "response=cache_model('hi')\n",
    "response"
   ]
  },
  {
   "cell_type": "code",
   "execution_count": 11,
   "id": "d8e0462d",
   "metadata": {},
   "outputs": [
    {
     "name": "stdout",
     "output_type": "stream",
     "text": [
      "**CACHE MISS - EXECUTING MODEL**\n",
      "EXECUTION TIME: 2.38 seconds\n"
     ]
    },
    {
     "data": {
      "text/plain": [
       "AIMessage(content='The attention mechanism, a pivotal concept in machine learning, particularly in natural language processing, enables models to focus on relevant parts of the input data when generating outputs. By weighing the importance of different input elements, it enhances context understanding, improving tasks like translation and summarization, making models more efficient and accurate.', additional_kwargs={'refusal': None}, response_metadata={'token_usage': {'completion_tokens': 61, 'prompt_tokens': 15, 'total_tokens': 76, 'completion_tokens_details': {'accepted_prediction_tokens': 0, 'audio_tokens': 0, 'reasoning_tokens': 0, 'rejected_prediction_tokens': 0}, 'prompt_tokens_details': {'audio_tokens': 0, 'cached_tokens': 0}}, 'model_name': 'gpt-4o-mini-2024-07-18', 'system_fingerprint': 'fp_8bda4d3a2c', 'id': 'chatcmpl-CF2rSWHGk8EhrbubQ8h58pQHxBX61', 'service_tier': 'default', 'finish_reason': 'stop', 'logprobs': None}, id='run--2d078ffd-2f52-48f0-9c41-955243d97ae2-0', usage_metadata={'input_tokens': 15, 'output_tokens': 61, 'total_tokens': 76, 'input_token_details': {'audio': 0, 'cache_read': 0}, 'output_token_details': {'audio': 0, 'reasoning': 0}})"
      ]
     },
     "execution_count": 11,
     "metadata": {},
     "output_type": "execute_result"
    }
   ],
   "source": [
    "response=cache_model('write about attention mechanism about 50 words')\n",
    "response"
   ]
  },
  {
   "cell_type": "code",
   "execution_count": 12,
   "id": "50c8b81c",
   "metadata": {},
   "outputs": [
    {
     "name": "stdout",
     "output_type": "stream",
     "text": [
      "** Cache hit\n",
      "EXECUTION TIME: 0.00 seconds\n"
     ]
    },
    {
     "data": {
      "text/plain": [
       "AIMessage(content='The attention mechanism, a pivotal concept in machine learning, particularly in natural language processing, enables models to focus on relevant parts of the input data when generating outputs. By weighing the importance of different input elements, it enhances context understanding, improving tasks like translation and summarization, making models more efficient and accurate.', additional_kwargs={'refusal': None}, response_metadata={'token_usage': {'completion_tokens': 61, 'prompt_tokens': 15, 'total_tokens': 76, 'completion_tokens_details': {'accepted_prediction_tokens': 0, 'audio_tokens': 0, 'reasoning_tokens': 0, 'rejected_prediction_tokens': 0}, 'prompt_tokens_details': {'audio_tokens': 0, 'cached_tokens': 0}}, 'model_name': 'gpt-4o-mini-2024-07-18', 'system_fingerprint': 'fp_8bda4d3a2c', 'id': 'chatcmpl-CF2rSWHGk8EhrbubQ8h58pQHxBX61', 'service_tier': 'default', 'finish_reason': 'stop', 'logprobs': None}, id='run--2d078ffd-2f52-48f0-9c41-955243d97ae2-0', usage_metadata={'input_tokens': 15, 'output_tokens': 61, 'total_tokens': 76, 'input_token_details': {'audio': 0, 'cache_read': 0}, 'output_token_details': {'audio': 0, 'reasoning': 0}})"
      ]
     },
     "execution_count": 12,
     "metadata": {},
     "output_type": "execute_result"
    }
   ],
   "source": [
    "response=cache_model('write about attention mechanism about 50 words')\n",
    "response"
   ]
  },
  {
   "cell_type": "markdown",
   "id": "07c1ed4f",
   "metadata": {},
   "source": [
    "#### Advanced CAG"
   ]
  },
  {
   "cell_type": "code",
   "execution_count": 8,
   "id": "bd366b1e",
   "metadata": {},
   "outputs": [],
   "source": [
    "from __future__ import annotations\n",
    "from typing import TypedDict,List,Optional\n",
    "import time\n",
    "\n",
    "from langgraph.graph import StateGraph,END\n",
    "from langgraph.checkpoint.memory import MemorySaver\n",
    "\n",
    "\n",
    "from langchain_core.documents import Document\n",
    "from langchain_openai import ChatOpenAI,OpenAIEmbeddings\n",
    "import faiss\n",
    "from langchain.embeddings import HuggingFaceEmbeddings\n",
    "from langchain.vectorstores import FAISS\n",
    "from langchain_community.docstore.in_memory import InMemoryDocstore"
   ]
  },
  {
   "cell_type": "code",
   "execution_count": 22,
   "id": "1fea5f3f",
   "metadata": {},
   "outputs": [],
   "source": [
    "EMBED_MODEL=\"text-embedding-3-small\"\n",
    "\n",
    "LLM_MODEL='gpt-4o-mini'\n",
    "LLM_TEMPERATURE=0\n",
    "\n",
    "RETRIEVE_TOP_K=4\n",
    "CACHE_TOP_K=3\n",
    "\n",
    "\n",
    "CACHE_TTL_SEC=0\n",
    "CACHE_DISTANCE_THRESHOLD=0.45"
   ]
  },
  {
   "cell_type": "code",
   "execution_count": 23,
   "id": "28dc4b53",
   "metadata": {},
   "outputs": [],
   "source": [
    "class RAGState(TypedDict):\n",
    "    question:str\n",
    "    normalized_question:str\n",
    "    context_docs=List[Document]\n",
    "    answer:Optional[str]\n",
    "    citations:List[str]\n",
    "    cache_hit:bool"
   ]
  },
  {
   "cell_type": "code",
   "execution_count": 24,
   "id": "afd6ebe3",
   "metadata": {},
   "outputs": [],
   "source": [
    "EMBED=OpenAIEmbeddings(model=EMBED_MODEL)"
   ]
  },
  {
   "cell_type": "code",
   "execution_count": 43,
   "id": "d8f67af1",
   "metadata": {},
   "outputs": [],
   "source": [
    "DIM = len(EMBED.embed_query(\"test\"))\n",
    "qa_index=faiss.IndexFlatL2(DIM)\n",
    "QA_CACHE=FAISS(\n",
    "    embedding_function=EMBED,\n",
    "    index=qa_index,\n",
    "    docstore=InMemoryDocstore({}),\n",
    "    index_to_docstore_id={}\n",
    ")"
   ]
  },
  {
   "cell_type": "code",
   "execution_count": 44,
   "id": "b3fcf24c",
   "metadata": {},
   "outputs": [
    {
     "data": {
      "text/plain": [
       "<langchain_community.vectorstores.faiss.FAISS at 0x7ff9d83d7320>"
      ]
     },
     "execution_count": 44,
     "metadata": {},
     "output_type": "execute_result"
    }
   ],
   "source": [
    "QA_CACHE"
   ]
  },
  {
   "cell_type": "code",
   "execution_count": 45,
   "id": "8e92ebe2",
   "metadata": {},
   "outputs": [],
   "source": [
    "RAG_STORE=FAISS.from_texts(\n",
    "    texts=[\n",
    "        'Langgraph lets you compose stateful LLM workflows as graphs.',\n",
    "        'In Langgraph,nodes can be cache;node caching memoizes outputs keyed by inputs for a TTl',\n",
    "        'Retrieval-Augmented Generation (RAG) retrieves external context and injects it into prompts',\n",
    "        'Semantic caching reuses prior answers when new questions are semantically similar'\n",
    "    ],\n",
    "    embedding=EMBED\n",
    ")"
   ]
  },
  {
   "cell_type": "code",
   "execution_count": 46,
   "id": "07f7e0c5",
   "metadata": {},
   "outputs": [],
   "source": [
    "LLM=ChatOpenAI(model=LLM_MODEL)"
   ]
  },
  {
   "cell_type": "code",
   "execution_count": 47,
   "id": "ef114687",
   "metadata": {},
   "outputs": [],
   "source": [
    "def normalize_query(state:RAGState) -> RAGState:\n",
    "    q=(state['question'] or \"\").strip()\n",
    "    state['normalized_question']=q.lower()\n",
    "    return state"
   ]
  },
  {
   "cell_type": "code",
   "execution_count": 48,
   "id": "c0dd12ed",
   "metadata": {},
   "outputs": [],
   "source": [
    "def semantic_cache_lookup(state:RAGState) -> RAGState:\n",
    "    q=state['normalized_question']\n",
    "    state['cache_hit']=False\n",
    "\n",
    "    if not q:\n",
    "        return state\n",
    "    \n",
    "    if getattr(QA_CACHE,'index',None) is None or QA_CACHE.index.ntotal==0:\n",
    "        return state\n",
    "    \n",
    "    hits=QA_CACHE.similarity_search_with_score(q,k=CACHE_TOP_K)\n",
    "    if not hits:\n",
    "        return state\n",
    "    best_docs,dist=hits[0]\n",
    "\n",
    "    if CACHE_TTL_SEC >0:\n",
    "        ts=best_docs.metadata.get('ts')\n",
    "        if ts is None or (time.time() - float(ts)) > CACHE_TTL_SEC:\n",
    "            return state\n",
    "    \n",
    "    if dist <= CACHE_DISTANCE_THRESHOLD:\n",
    "        cached_answer=best_docs.metadata.get('answer')\n",
    "        if cached_answer:\n",
    "            state['answer']=cached_answer\n",
    "            state['citations']=['(cache)']\n",
    "            state['cache_hit']=True\n",
    "    return state"
   ]
  },
  {
   "cell_type": "code",
   "execution_count": 49,
   "id": "486ab8c3",
   "metadata": {},
   "outputs": [],
   "source": [
    "def respond_from_cache(state:RAGState) -> RAGState:\n",
    "    return state"
   ]
  },
  {
   "cell_type": "code",
   "execution_count": 50,
   "id": "2796e824",
   "metadata": {},
   "outputs": [],
   "source": [
    "def retrieve(state:RAGState) -> RAGState:\n",
    "    q=state['normalized_question']\n",
    "    docs=RAG_STORE.similarity_search(q,k=RETRIEVE_TOP_K)\n",
    "    state['context_docs']=docs\n",
    "    return state"
   ]
  },
  {
   "cell_type": "code",
   "execution_count": 51,
   "id": "88867fbd",
   "metadata": {},
   "outputs": [],
   "source": [
    "def generate(state:RAGState) -> RAGState:\n",
    "    q=state['question']\n",
    "    docs=state.get('context_docs',[])\n",
    "    ctx=\"\\n\\n\".join([f\"[doc-{i}] {d.page_content}\" for i,d in enumerate(docs,start=1)])\n",
    "\n",
    "    system=(\n",
    "        \"You are a precise RAG assistant.Use the context when helpful.\"\n",
    "        \"cite with [doc-i] markers if you use a fact from the context.\"\n",
    "    )\n",
    "    user=f\"question:{q}\\n\\nContext:\\n{ctx}\\n\\nWrite a concise answer with citations.\"\n",
    "    resp=LLM.invoke([\n",
    "        {\"role\":\"system\",\"content\":system},\n",
    "        {\"role\":\"user\",\"content\":user}\n",
    "    ])\n",
    "    state['answer']=resp.content\n",
    "    state['citations']=[f\"[doc-{i}]\" for i in range(1,len(docs)+1)]\n",
    "    return state"
   ]
  },
  {
   "cell_type": "code",
   "execution_count": 52,
   "id": "763cfd72",
   "metadata": {},
   "outputs": [],
   "source": [
    "def cache_write(state:RAGState) -> RAGState:\n",
    "    q=state['normalized_question']\n",
    "    a=state.get('answer')\n",
    "    if not q or not a:\n",
    "        return state\n",
    "    \n",
    "    QA_CACHE.add_texts(\n",
    "        texts=[q],\n",
    "        metadatas=[{\n",
    "            'answer':a,\n",
    "            'ts':time.time()\n",
    "        }]\n",
    "    )\n",
    "    return state"
   ]
  },
  {
   "cell_type": "code",
   "execution_count": 53,
   "id": "4a59c039",
   "metadata": {},
   "outputs": [],
   "source": [
    "graph=StateGraph(RAGState)\n",
    "\n",
    "graph.add_node('normalize_query',normalize_query)\n",
    "graph.add_node('semantic_cache_lookup',semantic_cache_lookup)\n",
    "graph.add_node('respond_from_cache',respond_from_cache)\n",
    "graph.add_node('retrieve',retrieve)\n",
    "graph.add_node('generate',generate)\n",
    "graph.add_node('cache_write',cache_write)\n",
    "\n",
    "graph.set_entry_point('normalize_query')\n",
    "graph.add_edge('normalize_query','semantic_cache_lookup')\n",
    "\n",
    "def _branch(state:RAGState) -> str:\n",
    "    return \"respond_from_cache\" if state.get('cache_hit') else 'retrieve'\n",
    "\n",
    "graph.add_conditional_edges(\n",
    "    'semantic_cache_lookup',\n",
    "    _branch,\n",
    "    {\n",
    "        'respond_from_cache':'respond_from_cache',\n",
    "        'retrieve':'retrieve'\n",
    "    }\n",
    ")\n",
    "graph.add_edge('respond_from_cache',END)\n",
    "graph.add_edge('retrieve','generate')\n",
    "graph.add_edge('generate','cache_write')\n",
    "graph.add_edge('cache_write',END)\n",
    "    \n",
    "\n",
    "memory=MemorySaver()\n",
    "app=graph.compile(checkpointer=memory)"
   ]
  },
  {
   "cell_type": "code",
   "execution_count": 54,
   "id": "2dfd5d9e",
   "metadata": {},
   "outputs": [
    {
     "data": {
      "image/png": "[encoded data removed]",
      "text/plain": [
       "<langgraph.graph.state.CompiledStateGraph object at 0x7ff9d8270fe0>"
      ]
     },
     "execution_count": 54,
     "metadata": {},
     "output_type": "execute_result"
    }
   ],
   "source": [
    "app"
   ]
  },
  {
   "cell_type": "code",
   "execution_count": 55,
   "id": "914973db",
   "metadata": {},
   "outputs": [
    {
     "name": "stdout",
     "output_type": "stream",
     "text": [
      "Answer LangGraph is a platform designed for developers to build and deploy powerful applications using Natural Language Processing (NLP) and Machine Learning (ML) technologies. It simplifies the integration of language understanding and generation capabilities into software solutions, making it easier for users to leverage advanced algorithms and datasets for various applications, such as chatbots, content generation, and more. \n",
      "\n",
      "For further details, you might want to refer back to the specific documentation or source for in-depth information [doc-i].\n",
      "citations []\n",
      "cache hit? False\n"
     ]
    }
   ],
   "source": [
    "if __name__==\"__main__\":\n",
    "    thread_cfg={'configurable':{'thread_id':'demo-user-1'}}\n",
    "\n",
    "    q1='what is langgraph?'\n",
    "    out1=app.invoke({'question':q1,'context_docs':[],'citations':[]},thread_cfg)\n",
    "\n",
    "    print(\"Answer\",out1['answer'])\n",
    "    print('citations',out1.get('citations'))\n",
    "    print('cache hit?',out1.get('cache_hit'))"
   ]
  },
  {
   "cell_type": "code",
   "execution_count": 57,
   "id": "7bfbfce3",
   "metadata": {},
   "outputs": [
    {
     "name": "stdout",
     "output_type": "stream",
     "text": [
      "Answer LangGraph is a platform designed for developers to build and deploy powerful applications using Natural Language Processing (NLP) and Machine Learning (ML) technologies. It simplifies the integration of language understanding and generation capabilities into software solutions, making it easier for users to leverage advanced algorithms and datasets for various applications, such as chatbots, content generation, and more. \n",
      "\n",
      "For further details, you might want to refer back to the specific documentation or source for in-depth information [doc-i].\n",
      "citations ['(cache)']\n",
      "cache hit? True\n"
     ]
    }
   ],
   "source": [
    "q1='Please Explain about Langgraph?'\n",
    "out1=app.invoke({'question':q1,'context_docs':[],'citations':[]},thread_cfg)\n",
    "\n",
    "print(\"Answer\",out1['answer'])\n",
    "print('citations',out1.get('citations'))\n",
    "print('cache hit?',out1.get('cache_hit'))"
   ]
  }
 ],
 "metadata": {
  "kernelspec": {
   "display_name": "agenticai_env",
   "language": "python",
   "name": "python3"
  },
  "language_info": {
   "codemirror_mode": {
    "name": "ipython",
    "version": 3
   },
   "file_extension": ".py",
   "mimetype": "text/x-python",
   "name": "python",
   "nbconvert_exporter": "python",
   "pygments_lexer": "ipython3",
   "version": "3.12.11"
  }
 },
 "nbformat": 4,
 "nbformat_minor": 5
}
