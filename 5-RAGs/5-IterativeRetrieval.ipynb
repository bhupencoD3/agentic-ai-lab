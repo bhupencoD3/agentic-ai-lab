{
 "cells": [
  {
   "cell_type": "code",
   "execution_count": 1,
   "id": "e87addfe",
   "metadata": {},
   "outputs": [],
   "source": [
    "import os\n",
    "from typing import List\n",
    "from pydantic import BaseModel\n",
    "from langchain_openai import OpenAIEmbeddings\n",
    "from langchain_groq import ChatGroq\n",
    "from langchain.schema import Document\n",
    "from langchain.vectorstores import FAISS\n",
    "from langchain_community.document_loaders import TextLoader\n",
    "from langchain.text_splitter import RecursiveCharacterTextSplitter\n",
    "from langgraph.graph import StateGraph,END\n",
    "from langchain.text_splitter import RecursiveCharacterTextSplitter"
   ]
  },
  {
   "cell_type": "code",
   "execution_count": 2,
   "id": "3e5348c1",
   "metadata": {},
   "outputs": [
    {
     "data": {
      "text/plain": [
       "True"
      ]
     },
     "execution_count": 2,
     "metadata": {},
     "output_type": "execute_result"
    }
   ],
   "source": [
    "from dotenv import load_dotenv\n",
    "load_dotenv()"
   ]
  },
  {
   "cell_type": "code",
   "execution_count": 3,
   "id": "ecd441f4",
   "metadata": {},
   "outputs": [],
   "source": [
    "llm=ChatGroq(model='gemma2-9b-it')"
   ]
  },
  {
   "cell_type": "code",
   "execution_count": 5,
   "id": "f819899b",
   "metadata": {},
   "outputs": [],
   "source": [
    "docs=TextLoader('research_notes.txt',encoding='utf-8').load()\n",
    "chunks=RecursiveCharacterTextSplitter(chunk_size=500,chunk_overlap=50).split_documents(docs)\n",
    "vector_store=FAISS.from_documents(chunks,OpenAIEmbeddings(model='text-embedding-3-small'))\n",
    "retriever=vector_store.as_retriever()"
   ]
  },
  {
   "cell_type": "code",
   "execution_count": 7,
   "id": "5c54c24d",
   "metadata": {},
   "outputs": [],
   "source": [
    "class IterativeRAGState(BaseModel):\n",
    "    question:str\n",
    "    refined_question:str=\"\"\n",
    "    retrieved_docs:List[Document]=[]\n",
    "    answer:str=\"\"\n",
    "    verified:bool=False\n",
    "    attempt:int=0\n"
   ]
  },
  {
   "cell_type": "code",
   "execution_count": 14,
   "id": "1f3cb26f",
   "metadata": {},
   "outputs": [],
   "source": [
    "def retrieve_docs(state:IterativeRAGState)->IterativeRAGState:\n",
    "    query=state.refined_question or state.question\n",
    "    docs=retriever.invoke(query)\n",
    "    return state.model_copy(update={'retrieved_docs':docs})"
   ]
  },
  {
   "cell_type": "code",
   "execution_count": 15,
   "id": "d11699ac",
   "metadata": {},
   "outputs": [],
   "source": [
    "def generate_answer(state:IterativeRAGState) -> IterativeRAGState:\n",
    "    context=\"\\n\\n\".join(doc.page_content for doc in state.retrieved_docs)\n",
    "    prompt=f\"\"\"Use the following context to answer the question:\n",
    "    Context:{context}\n",
    "    Question:{state.question}\n",
    "\n",
    "    \"\"\"\n",
    "\n",
    "    response=llm.invoke(prompt.strip()).content.strip()\n",
    "    return state.model_copy(update={'answer':response,'attempts':state.attempt+1})"
   ]
  },
  {
   "cell_type": "code",
   "execution_count": 16,
   "id": "c08130a9",
   "metadata": {},
   "outputs": [],
   "source": [
    "def reflect_on_answer(state:IterativeRAGState) -> IterativeRAGState:\n",
    "    prompt=f\"\"\"Evaluate whether the answer below is factually sufficient and complete\n",
    "    question:{state.question}\n",
    "    answer:{state.answer}\n",
    "    Respond 'YES' if its complete,otherwise 'NO' with feedback.\"\"\"\n",
    "\n",
    "    feedback=llm.invoke(prompt).content.lower()\n",
    "    verified='yes' in feedback\n",
    "    return state.model_copy(update={'verified':verified})"
   ]
  },
  {
   "cell_type": "code",
   "execution_count": 17,
   "id": "a5d38e8f",
   "metadata": {},
   "outputs": [],
   "source": [
    "def refine_query(state:IterativeRAGState) -> IterativeRAGState:\n",
    "    prompt=f\"\"\"The answer appears incomplete,Suggest a better version of the query that would help retrieve more relevant context.\n",
    "    original question:{state.question}\n",
    "    current answer:{state.answer}\"\"\"\n",
    "\n",
    "    new_query=llm.invoke(prompt).content.strip()\n",
    "    return state.model(update={'refined_question':new_query})"
   ]
  },
  {
   "cell_type": "code",
   "execution_count": 18,
   "id": "b3e12e9c",
   "metadata": {},
   "outputs": [
    {
     "data": {
      "image/png": "[encoded data removed]",
      "text/plain": [
       "<langgraph.graph.state.CompiledStateGraph object at 0x7fd48cb0a630>"
      ]
     },
     "execution_count": 18,
     "metadata": {},
     "output_type": "execute_result"
    }
   ],
   "source": [
    "builder=StateGraph(IterativeRAGState)\n",
    "\n",
    "builder.add_node('retrieve',retrieve_docs)\n",
    "builder.add_node('answer',generate_answer)\n",
    "builder.add_node('reflect',reflect_on_answer)\n",
    "builder.add_node('refine',refine_query)\n",
    "\n",
    "builder.set_entry_point('retrieve')\n",
    "builder.add_edge('retrieve','answer')\n",
    "builder.add_edge('answer','reflect')\n",
    "\n",
    "builder.add_conditional_edges(\n",
    "    'reflect',\n",
    "    lambda s:END if s.verified or s.attempts >=2 else \"refine\"\n",
    ")\n",
    "\n",
    "builder.add_edge('refine','retrieve')\n",
    "builder.add_edge('answer',END)\n",
    "\n",
    "graph=builder.compile()\n",
    "\n",
    "graph"
   ]
  },
  {
   "cell_type": "code",
   "execution_count": 20,
   "id": "c96710ba",
   "metadata": {},
   "outputs": [
    {
     "name": "stdout",
     "output_type": "stream",
     "text": [
      "{'question': 'what was dominated the sequence modeling before attention mechanism?', 'refined_question': '', 'retrieved_docs': [Document(id='1b340120-27f1-4a03-afb8-53034ed3ff52', metadata={'source': 'research_notes.txt'}, page_content='The introduction of the attention mechanism stands as one of the most significant milestones in modern artificial intelligence research.\\nBefore attention, sequence modeling was dominated by recurrent neural networks (RNNs) and their gated variants such as Long Short-Term Memory (LSTM) and Gated Recurrent Units (GRU).\\nWhile these models showed promise in processing temporal data like text and speech, they struggled with long-range dependencies.'), Document(id='bdaa9d5b-ab4c-4a09-b3e3-3d560e23c439', metadata={'source': 'research_notes.txt'}, page_content='Information from the start of a sequence often dissipated or was distorted by the time it reached the end, leading to degraded performance.\\nAttention emerged as a solution, offering a way for models to dynamically focus on relevant parts of the input sequence rather than compressing the entire history into a fixed-size hidden state.'), Document(id='4905aaf8-f3de-4c62-b6c4-f7a1b82ca72d', metadata={'source': 'research_notes.txt'}, page_content='This case study explores the development, implementation, and impact of attention mechanisms, focusing on their role in revolutionizing natural language processing (NLP) and extending into domains such as vision, reinforcement learning, and multimodal systems.\\nWe trace the origins of attention, examine its mathematical foundation, and discuss how it has changed the trajectory of deep learning research.'), Document(id='349a34d8-bbca-4648-bac4-c50b6ed439ab', metadata={'source': 'research_notes.txt'}, page_content='The concept of attention was first introduced in the context of neural machine translation (NMT).\\nEarly translation systems used sequence-to-sequence architectures, where an encoder compressed a source sentence into a single context vector and a decoder unfolded that into the target language.\\nThis setup worked adequately for short sentences but failed to handle long, complex structures where different parts of the source sentence carried different levels of importance.')], 'answer': 'Before the attention mechanism, sequence modeling was dominated by **recurrent neural networks (RNNs)** and their gated variants like **Long Short-Term Memory (LSTM)** and **Gated Recurrent Units (GRU)**. \\n\\n\\nLet me know if you have other questions!', 'verified': True, 'attempt': 0}\n",
      "\n",
      "Final Answer: Before the attention mechanism, sequence modeling was dominated by **recurrent neural networks (RNNs)** and their gated variants like **Long Short-Term Memory (LSTM)** and **Gated Recurrent Units (GRU)**. \n",
      "\n",
      "\n",
      "Let me know if you have other questions!\n",
      "\n",
      "Verified True\n",
      "Attempts 0\n"
     ]
    }
   ],
   "source": [
    "if __name__==\"__main__\":\n",
    "    query=\"what was dominated the sequence modeling before attention mechanism?\"\n",
    "    init_state=IterativeRAGState(question=query)\n",
    "    result=graph.invoke(init_state)\n",
    "    print(result)\n",
    "    \n",
    "    print(\"\\nFinal Answer:\",result['answer'])\n",
    "    print(\"\\nVerified\",result['verified'])\n",
    "    print('Attempts',result['attempt'])\n"
   ]
  }
 ],
 "metadata": {
  "kernelspec": {
   "display_name": "agenticai_env",
   "language": "python",
   "name": "python3"
  },
  "language_info": {
   "codemirror_mode": {
    "name": "ipython",
    "version": 3
   },
   "file_extension": ".py",
   "mimetype": "text/x-python",
   "name": "python",
   "nbconvert_exporter": "python",
   "pygments_lexer": "ipython3",
   "version": "3.12.11"
  }
 },
 "nbformat": 4,
 "nbformat_minor": 5
}
