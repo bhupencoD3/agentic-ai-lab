{
 "cells": [
  {
   "cell_type": "code",
   "execution_count": 23,
   "id": "da9fad7d",
   "metadata": {},
   "outputs": [],
   "source": [
    "from typing_extensions import TypedDict\n",
    "from typing import Literal\n",
    "\n",
    "class TypeDictState(TypedDict):\n",
    "    name:str\n",
    "    game:Literal[\"cricket\",\"football\"]\n",
    "    "
   ]
  },
  {
   "cell_type": "code",
   "execution_count": 24,
   "id": "056689df",
   "metadata": {},
   "outputs": [],
   "source": [
    "def play_game(state:TypeDictState):\n",
    "    print(\"----Play Game node has been called----\")\n",
    "    return {\"name\":state[\"name\"] + \" wants to play \"}\n",
    "\n",
    "def cricket(state:TypeDictState):\n",
    "    print(\"----Cricket node has been called----\")\n",
    "    return {\"name\":state[\"name\"] + \"cricket\",\"game\":\"cricket\"}\n",
    "\n",
    "def football(state:TypeDictState):\n",
    "    print(\"----football node has been called----\")\n",
    "    return {\"name\":state[\"name\"] + \"football\",\"game\":\"football\"}"
   ]
  },
  {
   "cell_type": "code",
   "execution_count": 25,
   "id": "ee1ab1e5",
   "metadata": {},
   "outputs": [],
   "source": [
    "import random"
   ]
  },
  {
   "cell_type": "code",
   "execution_count": 26,
   "id": "4ebc0a72",
   "metadata": {},
   "outputs": [],
   "source": [
    "def decide_game(state:TypeDictState)-> Literal[\"cricket\",\"football\"]:\n",
    "    if random.random() < 0.5:\n",
    "        return \"cricket\"\n",
    "    else:\n",
    "        return \"football\""
   ]
  },
  {
   "cell_type": "code",
   "execution_count": 27,
   "id": "c829c981",
   "metadata": {},
   "outputs": [
    {
     "data": {
      "image/png": "[encoded data removed]",
      "text/plain": [
       "<IPython.core.display.Image object>"
      ]
     },
     "metadata": {},
     "output_type": "display_data"
    }
   ],
   "source": [
    "from IPython.display import Image,display\n",
    "from langgraph.graph import StateGraph,START,END\n",
    "\n",
    "builder=StateGraph(TypeDictState)\n",
    "builder.add_node(\"play_game\",play_game)\n",
    "builder.add_node(\"cricket\",cricket)\n",
    "builder.add_node(\"football\",football)\n",
    "\n",
    "builder.add_edge(START,\"play_game\")\n",
    "builder.add_conditional_edges(\"play_game\",decide_game)\n",
    "builder.add_edge(\"cricket\",END)\n",
    "builder.add_edge(\"football\",END)\n",
    "\n",
    "\n",
    "graph_builder=builder.compile()\n",
    "\n",
    "display(Image(graph_builder.get_graph().draw_mermaid_png()))"
   ]
  },
  {
   "cell_type": "code",
   "execution_count": 29,
   "id": "b3df3c74",
   "metadata": {},
   "outputs": [
    {
     "name": "stdout",
     "output_type": "stream",
     "text": [
      "----Play Game node has been called----\n",
      "----Cricket node has been called----\n"
     ]
    },
    {
     "data": {
      "text/plain": [
       "{'name': 'bhupen wants to play cricket', 'game': 'cricket'}"
      ]
     },
     "execution_count": 29,
     "metadata": {},
     "output_type": "execute_result"
    }
   ],
   "source": [
    "graph_builder.invoke({\"name\":\"bhupen\"})"
   ]
  },
  {
   "cell_type": "code",
   "execution_count": 35,
   "id": "7d70c0a8",
   "metadata": {},
   "outputs": [],
   "source": [
    "from dataclasses import dataclass\n",
    "\n",
    "@dataclass\n",
    "class DataClassState:\n",
    "    name:str\n",
    "    game:Literal[\"cricket\",\"football\"]"
   ]
  },
  {
   "cell_type": "code",
   "execution_count": 40,
   "id": "1863090e",
   "metadata": {},
   "outputs": [],
   "source": [
    "def play_game(state:DataClassState):\n",
    "    print(\"----Play Game node has been called----\")\n",
    "    return {\"name\":state.name + \" wants to play \"}\n",
    "\n",
    "def cricket(state:DataClassState):\n",
    "    print(\"----Cricket node has been called----\")\n",
    "    return {\"name\":state.name + \"cricket\",\"game\":\"cricket\"}\n",
    "\n",
    "def football(state:DataClassState):\n",
    "    print(\"----football node has been called----\")\n",
    "    return {\"name\":state.name + \"football\",\"game\":\"football\"}"
   ]
  },
  {
   "cell_type": "code",
   "execution_count": 41,
   "id": "968907cc",
   "metadata": {},
   "outputs": [],
   "source": [
    "def decide_game(state:DataClassState)-> Literal[\"cricket\",\"football\"]:\n",
    "    if random.random() < 0.5:\n",
    "        return \"cricket\"\n",
    "    else:\n",
    "        return \"football\""
   ]
  },
  {
   "cell_type": "code",
   "execution_count": 42,
   "id": "56d61020",
   "metadata": {},
   "outputs": [
    {
     "data": {
      "image/png": "[encoded data removed]",
      "text/plain": [
       "<IPython.core.display.Image object>"
      ]
     },
     "metadata": {},
     "output_type": "display_data"
    }
   ],
   "source": [
    "from IPython.display import Image,display\n",
    "from langgraph.graph import StateGraph,START,END\n",
    "\n",
    "builder=StateGraph(DataClassState)\n",
    "builder.add_node(\"play_game\",play_game)\n",
    "builder.add_node(\"cricket\",cricket)\n",
    "builder.add_node(\"football\",football)\n",
    "\n",
    "builder.add_edge(START,\"play_game\")\n",
    "builder.add_conditional_edges(\"play_game\",decide_game)\n",
    "builder.add_edge(\"cricket\",END)\n",
    "builder.add_edge(\"football\",END)\n",
    "\n",
    "\n",
    "graph_builder=builder.compile()\n",
    "\n",
    "display(Image(graph_builder.get_graph().draw_mermaid_png()))"
   ]
  },
  {
   "cell_type": "code",
   "execution_count": 46,
   "id": "d26b1c74",
   "metadata": {},
   "outputs": [
    {
     "name": "stdout",
     "output_type": "stream",
     "text": [
      "----Play Game node has been called----\n",
      "----Cricket node has been called----\n"
     ]
    },
    {
     "data": {
      "text/plain": [
       "{'name': 'bhupen wants to play cricket', 'game': 'cricket'}"
      ]
     },
     "execution_count": 46,
     "metadata": {},
     "output_type": "execute_result"
    }
   ],
   "source": [
    "graph_builder.invoke(DataClassState(name=\"bhupen\",game=\"cricket\"))"
   ]
  }
 ],
 "metadata": {
  "kernelspec": {
   "display_name": "agenticai_env",
   "language": "python",
   "name": "python3"
  },
  "language_info": {
   "codemirror_mode": {
    "name": "ipython",
    "version": 3
   },
   "file_extension": ".py",
   "mimetype": "text/x-python",
   "name": "python",
   "nbconvert_exporter": "python",
   "pygments_lexer": "ipython3",
   "version": "3.12.11"
  }
 },
 "nbformat": 4,
 "nbformat_minor": 5
}
