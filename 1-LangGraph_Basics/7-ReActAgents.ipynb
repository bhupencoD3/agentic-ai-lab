{
 "cells": [
  {
   "cell_type": "code",
   "execution_count": 2,
   "id": "657c7059",
   "metadata": {},
   "outputs": [],
   "source": [
    "from langchain_community.tools import ArxivQueryRun,WikipediaQueryRun\n",
    "from langchain_community.utilities import WikipediaAPIWrapper,ArxivAPIWrapper"
   ]
  },
  {
   "cell_type": "code",
   "execution_count": 6,
   "id": "d4cec45e",
   "metadata": {},
   "outputs": [
    {
     "data": {
      "text/plain": [
       "'arxiv'"
      ]
     },
     "execution_count": 6,
     "metadata": {},
     "output_type": "execute_result"
    }
   ],
   "source": [
    "api_wrapper_arxiv=ArxivAPIWrapper(top_k_results=2,doc_content_chars_max=500)\n",
    "arxiv=ArxivQueryRun(api_wrapper=api_wrapper_arxiv)\n",
    "arxiv.name"
   ]
  },
  {
   "cell_type": "code",
   "execution_count": 4,
   "id": "79d3290c",
   "metadata": {},
   "outputs": [
    {
     "data": {
      "text/plain": [
       "\"Published: 2024-07-22\\nTitle: Attention Is All You Need But You Don't Need All Of It For Inference of Large Language Models\\nAuthors: Georgy Tyukin, Gbetondji J-S Dovonon, Jean Kaddour, Pasquale Minervini\\nSummary: The inference demand for LLMs has skyrocketed in recent months, and serving\\nmodels with low latencies remains challenging due to the quadratic input length\\ncomplexity of the attention layers. In this work, we investigate the effect of\\ndropping MLP and attention layers at inference time o\""
      ]
     },
     "execution_count": 4,
     "metadata": {},
     "output_type": "execute_result"
    }
   ],
   "source": [
    "arxiv.invoke(\"Attention is all you need\")"
   ]
  },
  {
   "cell_type": "code",
   "execution_count": 5,
   "id": "6629ff15",
   "metadata": {},
   "outputs": [
    {
     "data": {
      "text/plain": [
       "'wikipedia'"
      ]
     },
     "execution_count": 5,
     "metadata": {},
     "output_type": "execute_result"
    }
   ],
   "source": [
    "api_wrapper_wiki=WikipediaAPIWrapper(top_k_results=1,doc_content_chars_max=500)\n",
    "wiki=WikipediaQueryRun(api_wrapper=api_wrapper_wiki)\n",
    "wiki.name"
   ]
  },
  {
   "cell_type": "code",
   "execution_count": 14,
   "id": "f2db4d60",
   "metadata": {},
   "outputs": [
    {
     "data": {
      "text/plain": [
       "'Page: Board of Control for Cricket in India\\nSummary: The Board of Control for Cricket in India (BCCI) is the principal national governing body of the sport of cricket in India. Its headquarters are situated at the Cricket Centre in Wankhede Stadium, Mumbai. BCCI is the wealthiest governing body of cricket in the world. It has a revenue of more than 9,700 crore.\\nIt is involved in talent development through grassroots programs and cricket academies. Its initiatives include coaching, infrastructure'"
      ]
     },
     "execution_count": 14,
     "metadata": {},
     "output_type": "execute_result"
    }
   ],
   "source": [
    "wiki.invoke(\"BCCI\")"
   ]
  },
  {
   "cell_type": "code",
   "execution_count": 30,
   "id": "166394c7",
   "metadata": {},
   "outputs": [],
   "source": [
    "from dotenv import load_dotenv\n",
    "load_dotenv()\n",
    "\n",
    "import os\n",
    "os.environ['TAVILTY_API_KEY']=os.getenv('TAVILY_API_KEY')\n",
    "os.environ['GROQ_API_KEY']=os.getenv('GROQ_API_KEY')\n",
    "os.environ['OPENAI_API_KEY']=os.getenv('OPENAI_API_KEY')\n",
    "os.environ['LANGCHAIN_API_KEY']=os.getenv('LANGCHAIN_API_KEY')\n",
    "os.environ['LANGCHAIN_TRACING_V2']='true'\n",
    "os.environ['LANGCHAIN_PROJECT']='ReAct_agent'"
   ]
  },
  {
   "cell_type": "code",
   "execution_count": 16,
   "id": "623cbaa2",
   "metadata": {},
   "outputs": [],
   "source": [
    "## custom functions\n",
    "def add(a: float, b: float) -> float:\n",
    "    \"\"\"\n",
    "    Add two numbers together.\n",
    "\n",
    "    Args:\n",
    "        a (float): The first number.\n",
    "        b (float): The second number.\n",
    "\n",
    "    Returns:\n",
    "        float: The sum of a and b.\n",
    "    \"\"\"\n",
    "    return a + b\n",
    "\n",
    "\n",
    "def sub(a: float, b: float) -> float:\n",
    "    \"\"\"\n",
    "    Subtract one number from another.\n",
    "\n",
    "    Args:\n",
    "        a (float): The number from which b will be subtracted.\n",
    "        b (float): The number to subtract from a.\n",
    "\n",
    "    Returns:\n",
    "        float: The result of a - b.\n",
    "    \"\"\"\n",
    "    return a - b\n",
    "\n",
    "\n",
    "def multi(a: float, b: float) -> float:\n",
    "    \"\"\"\n",
    "    Multiply two numbers.\n",
    "\n",
    "    Args:\n",
    "        a (float): The first number.\n",
    "        b (float): The second number.\n",
    "\n",
    "    Returns:\n",
    "        float: The product of a and b.\n",
    "    \"\"\"\n",
    "    return a * b\n",
    "\n",
    "\n",
    "def divide(a: float, b: float) -> float:\n",
    "    \"\"\"\n",
    "    Divide one number by another.\n",
    "\n",
    "    Args:\n",
    "        a (float): The numerator (the number to be divided).\n",
    "        b (float): The denominator (the number by which a is divided).\n",
    "                   Must not be zero.\n",
    "\n",
    "    Returns:\n",
    "        float: The result of a / b.\n",
    "\n",
    "    Raises:\n",
    "        ValueError: If b is zero.\n",
    "    \"\"\"\n",
    "    if b == 0:\n",
    "        raise ValueError(\"Division by zero is not allowed.\")\n",
    "    return a / b\n"
   ]
  },
  {
   "cell_type": "code",
   "execution_count": 18,
   "id": "8c232e42",
   "metadata": {},
   "outputs": [
    {
     "name": "stderr",
     "output_type": "stream",
     "text": [
      "/tmp/ipykernel_139909/3880125110.py:3: LangChainDeprecationWarning: The class `TavilySearchResults` was deprecated in LangChain 0.3.25 and will be removed in 1.0. An updated version of the class exists in the :class:`~langchain-tavily package and should be used instead. To use it run `pip install -U :class:`~langchain-tavily` and import as `from :class:`~langchain_tavily import TavilySearch``.\n",
      "  tavily=TavilySearchResults()\n"
     ]
    }
   ],
   "source": [
    "from langchain_community.tools.tavily_search import TavilySearchResults\n",
    "\n",
    "tavily=TavilySearchResults()"
   ]
  },
  {
   "cell_type": "code",
   "execution_count": 19,
   "id": "92554c81",
   "metadata": {},
   "outputs": [
    {
     "data": {
      "text/plain": [
       "[{'title': 'Model Release Notes - OpenAI Help Center',\n",
       "  'url': 'https://help.openai.com/en/articles/9624314-model-release-notes',\n",
       "  'content': 'GPT-5 in ChatGPT is our next flagship model and the new default for all logged-in users. It simplifies ChatGPT to a single auto-switching system that brings together the best of our previous models into asmart, fast model. [...] We’re releasing a research preview of GPT-4.5—our largest, and best model for chat, yet. GPT-4.5 is a step forward in scaling up pretraining and post-training. By scaling unsupervised learning, GPT-4.5 improves its ability to recognize patterns, draw connections, and generate creative insights without reasoning. [...] This model is now available in ChatGPT and in the API as the newest snapshot of chatgpt-4o-latest. We plan to bring these improvements to a dated model in the API in the coming weeks.\\n\\nIntroducing GPT-4.5 (February, 27, 2025)',\n",
       "  'score': 0.8266142},\n",
       " {'title': 'OpenAI launches new GPT-5 model for all ChatGPT users - CNBC',\n",
       "  'url': 'https://www.cnbc.com/2025/08/07/openai-launches-gpt-5-model-for-all-chatgpt-users.html',\n",
       "  'content': 'Form 1st). [...] Since launching its AI chatbot ChatGPT in 2022, OpenAI has rocketed into the mainstream. The company said it expects to hit 700 million weekly active users on ChatGPT this week, and it is in talks with investors about a potential stock sale at a valuation of roughly $500 billion, as CNBC previously reported. [...] Skip Navigation\\n\\n Make It\\n select\\n\\n USA\\n INTL\\n\\n Livestream\\n\\n Livestream\\n\\nWatchlist\\n\\nSIGN IN\\n\\nCreate free account\\n\\nOpenAI launches new GPT-5 model for all ChatGPT users\\n\\nShare\\n\\nMarkets\\n\\nBusiness\\n\\nInvesting\\n\\nTech\\n\\nPolitics\\n\\nVideo\\n\\nWatchlist\\n\\nInvesting Club\\n\\nPRO\\n\\nLivestream\\n\\nCNBC Disruptor 50\\n\\n# OpenAI launches new GPT-5 model for all ChatGPT users\\n\\nAshley Capoot@/in/ashley-capoot/\\n\\nWATCH LIVE\\n\\nShare\\n\\nKey Points',\n",
       "  'score': 0.81418616},\n",
       " {'title': 'When Will ChatGPT-6 Be Released? (August 2025)',\n",
       "  'url': 'https://explodingtopics.com/blog/new-chatgpt-release-date',\n",
       "  'content': 'In response to user feedback and internal reflection, OpenAI is simplifying the ChatGPT experience. The often-confusing model switcher is going away. Instead of juggling between GPT-4o, o1, and others, users will interact with a unified GPT-5 experience that intelligently adapts based on context and task complexity. [...] Instead of switching between different GPT or o-series models, users now interact with a single, consolidated model. GPT-5 takes on the responsibility of determining how to process each prompt so users no longer need to toggle between options manually. OpenAI touted this as a way to improve the user experience. Critics believe that it may have been a cost-cutting measure that routed all queries through the cheaper model first. [...] Get a complete view of your competitors to anticipate trends and lead your market\\n\\nA Smarter Model, Trained on More and Built for More\\n\\nOne of the key ways GPT-5 becomes \"smarter\" is through its expanded training process. OpenAI has trained the new model on an even larger and more diverse dataset than ever before, pulling not only from publicly available internet data, but also from a growing pool of proprietary sources.',\n",
       "  'score': 0.7927375},\n",
       " {'title': 'OpenAI Finally Goes Open-Source: 120B & 20B Models - YouTube',\n",
       "  'url': 'https://www.youtube.com/watch?v=1lYbTA5YYNw',\n",
       "  'content': \"I'm going to ask it tell me about your yourself. Okay. So I'm chat GPT a conversational AI built on open AI's GPT4 architecture. I'm designed to understand and generate language. So I can help you with wide range of task answering questions, brainstorm ideas, right? So pretty neat. Okay. So I'm going to create a more detailed video on testing this model. But in this video, I just wanted to give you a quick overview of what was released today and how to get started with this. So keep an eye out\",\n",
       "  'score': 0.76385427},\n",
       " {'title': 'Azure OpenAI in Azure AI Foundry Models - Microsoft Learn',\n",
       "  'url': 'https://learn.microsoft.com/en-us/azure/ai-foundry/openai/concepts/models',\n",
       "  'content': \"that can solve difficult problems with greater accuracy than any of OpenAI's previous models. Like GPT-3.5 Turbo, and older GPT-4 models, GPT-4 Turbo is optimized for chat and works well for traditional completions tasks. [...] | Models | Description |\\n --- |\\n| GPT-5 series | NEW gpt-5, gpt-5-mini, gpt-5-nano, gpt-5-chat |\\n| gpt-oss | NEW open-weight reasoning models |\\n| codex-mini | Fine-tuned version of o4-mini. |\\n| GPT-4.1 series | gpt-4.1, gpt-4.1-mini, gpt-4.1-nano |\\n| model-router | A model that intelligently selects from a set of underlying chat models to respond to a given prompt. |\\n| computer-use-preview | An experimental model trained for use with the Responses API computer use tool. | [...] | `o4-mini` (2025-04-16) | - _New_ reasoning model, offering enhanced reasoning abilities. - Chat Completions API. - Responses API. - Structured outputs. - Text and image processing. - Functions and tools. Full summary of capabilities. | Input: 200,000 Output: 100,000 | May 31, 2024 |\",\n",
       "  'score': 0.75049835}]"
      ]
     },
     "execution_count": 19,
     "metadata": {},
     "output_type": "execute_result"
    }
   ],
   "source": [
    "tavily.invoke(\"openai's new chat model\")"
   ]
  },
  {
   "cell_type": "code",
   "execution_count": 20,
   "id": "9774a086",
   "metadata": {},
   "outputs": [],
   "source": [
    "tools=[arxiv,wiki,tavily,add,sub,multi,divide]"
   ]
  },
  {
   "cell_type": "code",
   "execution_count": 32,
   "id": "9973a088",
   "metadata": {},
   "outputs": [],
   "source": [
    "from langchain_openai import ChatOpenAI\n",
    "\n",
    "\n",
    "llm=ChatOpenAI(model=\"gpt-4o-mini\")\n",
    "llm_with_tools=llm.bind_tools(tools)"
   ]
  },
  {
   "cell_type": "code",
   "execution_count": 23,
   "id": "5b6a75aa",
   "metadata": {},
   "outputs": [],
   "source": [
    "from pprint import pprint\n",
    "from langchain_core.messages import AIMessage,HumanMessage\n",
    "from typing_extensions import TypedDict\n",
    "from langchain_core.messages import AnyMessage\n",
    "from typing import Annotated\n",
    "from langgraph.graph.message import add_messages"
   ]
  },
  {
   "cell_type": "code",
   "execution_count": 24,
   "id": "6a110ed4",
   "metadata": {},
   "outputs": [],
   "source": [
    "class State(TypedDict):\n",
    "    messages:Annotated[list[AnyMessage],add_messages]"
   ]
  },
  {
   "cell_type": "code",
   "execution_count": 33,
   "id": "3a2473d6",
   "metadata": {},
   "outputs": [
    {
     "data": {
      "image/png": "[encoded data removed]",
      "text/plain": [
       "<IPython.core.display.Image object>"
      ]
     },
     "metadata": {},
     "output_type": "display_data"
    }
   ],
   "source": [
    "from IPython.display import Image,display\n",
    "from langgraph.graph import StateGraph,START,END\n",
    "from langgraph.prebuilt import ToolNode\n",
    "from langgraph.prebuilt import tools_condition\n",
    "\n",
    "def tool_calling_llm(state:State):\n",
    "    return {\"messages\":[llm_with_tools.invoke(state[\"messages\"])]}\n",
    "\n",
    "builder=StateGraph(State)\n",
    "builder.add_node(\"tool_calling_llm\",tool_calling_llm)\n",
    "builder.add_node(\"tools\",ToolNode(tools))\n",
    "\n",
    "builder.add_edge(START,\"tool_calling_llm\")\n",
    "builder.add_conditional_edges(\n",
    "    \"tool_calling_llm\",\n",
    "    tools_condition\n",
    ")\n",
    "\n",
    "builder.add_edge(\"tools\",\"tool_calling_llm\")\n",
    "\n",
    "graph=builder.compile()\n",
    "\n",
    "display(Image(graph.get_graph().draw_mermaid_png()))"
   ]
  },
  {
   "cell_type": "code",
   "execution_count": 34,
   "id": "39aa5b64",
   "metadata": {},
   "outputs": [
    {
     "name": "stdout",
     "output_type": "stream",
     "text": [
      "================================\u001b[1m Human Message \u001b[0m=================================\n",
      "\n",
      "Provide me the top5 ai news for sep 8th 25,add 5 plus 5 and then divide by 10\n",
      "==================================\u001b[1m Ai Message \u001b[0m==================================\n",
      "Tool Calls:\n",
      "  tavily_search_results_json (call_DTnffAKtmC8lgY6Oalw9Edvi)\n",
      " Call ID: call_DTnffAKtmC8lgY6Oalw9Edvi\n",
      "  Args:\n",
      "    query: AI news September 8 2025\n",
      "  add (call_I4y0BQjhCFaMMvJmuF96qbex)\n",
      " Call ID: call_I4y0BQjhCFaMMvJmuF96qbex\n",
      "  Args:\n",
      "    a: 5\n",
      "    b: 5\n",
      "  divide (call_dKqDOwflGZWc8SD1XcA2dQid)\n",
      " Call ID: call_dKqDOwflGZWc8SD1XcA2dQid\n",
      "  Args:\n",
      "    a: 10\n",
      "    b: 1\n",
      "=================================\u001b[1m Tool Message \u001b[0m=================================\n",
      "Name: tavily_search_results_json\n",
      "\n",
      "[{\"title\": \"Artificial Intelligence - AI News - Reuters\", \"url\": \"https://www.reuters.com/technology/artificial-intelligence/\", \"content\": \"Published Time: Mon, 08 Sep 2025 16:41:26 GMT\\n\\nAI News | Latest Headlines and Developments | Reuters\\n\\nSkip to main content\\n\\nReport This Ad\\n\\nExclusive news, data and analytics for financial market professionals Learn more about Refinitiv\\n\\n, opens new tab\\n\\nStay Informed\\n\\n   Download the App (iOS), opens new tab\\n   Download the App (Android), opens new tab\\n   Newsletters\\n   Subscribe\\n\\nInformation you can trust\", \"score\": 0.8827621}, {\"title\": \"AI News September 2025: In-Depth and Concise - The AI Track\", \"url\": \"https://theaitrack.com/ai-news-september-2025-in-depth-and-concise/\", \"content\": \"Published Time: 2025-09-04T18:50:26+00:00\\n\\nAI News September 2025: In-Depth and Concise\\n\\nSkip to content\\n\\nImage 1: The AI Track\\n\\nSearch for: \\n\\nMain Menu\\n\\nImage 3: The AI Track\\n\\nMain Menu\\n\\nSearch for: \\n\\n   Home\\n   AI News September 2025: In-Depth and Concise\\n\\nAI News September 2025: In-Depth and Concise\\n\\nWelcome to The AI Track's comprehensive monthly roundup of the latest AI news! [...] Each month, we compile significant news, trends, and happenings in AI, providing detailed summaries with key points in bullet form for concise yet complete understanding.\\n\\nAI NEws\\n\\nImage 5: Reading AI News September 2025 - Image generated by Midjourney for The AI Track\\n\\nThis page features AI News for September 2025. At the end, you will find links to our archives for previous months\\n\\nSeptember 2025\\n\\nSummaries presented here were created in collaboration withChatGPT.\\n\\nAI NEWS September 2025 [...] Anthropic will Pay $1.5 Billion in Landmark AI Book Piracy Settlement\\n   OpenAI Jobs Platform Set to Launch in 2026 to Rival LinkedIn\\n   Switzerland Releases Apertus, a National Open-Source AI Model\\n   Microsoft Launches MAI Models as Partnership with OpenAI Faces Strain\\n   OpenAI and Anthropic Cross-Evaluate AI Models for Safety, Alignment, and Misuse Resistance\\n   Google Adds Live Translation and Language Learning Tools in Google Translate\", \"score\": 0.8533396}, {\"title\": \"The Latest AI News and AI Breakthroughs that Matter Most: 2025\", \"url\": \"https://www.crescendo.ai/news/latest-ai-news-and-updates\", \"content\": \"Summary: Reveal HealthTech, an AI-powered healthcare startup based in Bengaluru and the U.S., raised $7.2 million in a Series A round led by Leo Capital, with continued support from Sanos Capital, W Health Ventures, and 2070 Health. The funding will bolster its core products, BioCanvas, which accelerates clinical trial recruitment using multimodal AI, and Prism AI, which automates healthcare workflows and improves patient adherence. Co-founded by Sanchit Mullick and Dr. Salim Ashar, the company [...] Summary: Researchers have unveiled a new procedural memory architecture for AI agents that enables them to incrementally learn, store, and reuse operational steps, thereby enhancing long-term performance and reducing costly retraining. This framework enables agents to build cumulative expertise and handle complex, multi-phase tasks more robustly. It holds promise for deploying more adaptive and cost-efficient AI agents in enterprise workflows.\\n\\nSource:Computerworld [...] Summary: OpenAI CEO Sam Altman warned that the United States may be underestimating the strategic nature of China’s AI advancements. He cautioned that export controls such as the “China-safe” chip policy alone are insufficient to counteract China’s multi-layered AI push. Altman highlighted that the U.S.–China AI race involves deeper geopolitical and technological dimensions. He underscored the urgency for more robust and comprehensive U.S. AI policy responses.\\n\\nSource:Cryptopolitan\", \"score\": 0.8091708}, {\"title\": \"Cramer breaks down the AI chip race between two Club ...\", \"url\": \"https://www.cnbc.com/video/2025/09/08/monday-september-8-2025-cramer-breaks-down-the-ai-chip-race-between-two-club-holdings.html\", \"content\": \"Morning Meeting\\n\\n# Monday, September 8, 2025: Cramer breaks down the AI chip race between two Club holdings\\n\\nGo behind the scenes with Jim Cramer and Jeff Marks of the CNBC Investing Club as they talk candidly about the market’s biggest headlines, analyst calls and holdings in the Charitable Trust—and see up close how they decide when, and if, to take action on stocks.\\n\\nShare\\n\\n11:09\\n\\n2 hours ago\", \"score\": 0.7279179}, {\"title\": \"A.I. Could Make the Smartphone Passé. What Comes Next?\", \"url\": \"https://www.nytimes.com/2025/09/08/technology/personaltech/ai-iphones-android-smartphones.html\", \"content\": \"Published Time: 2025-09-08T09:04:01.000Z\\n\\nA.I. Could Make the Smartphone Passé. What Comes Next? - The New York Times\\n\\nSkip to contentSkip to site indexSearch & Section Navigation Section Navigation\\n\\nSEARCH\\n\\nPersonal Tech\", \"score\": 0.72489023}]\n",
      "=================================\u001b[1m Tool Message \u001b[0m=================================\n",
      "Name: add\n",
      "\n",
      "10.0\n",
      "=================================\u001b[1m Tool Message \u001b[0m=================================\n",
      "Name: divide\n",
      "\n",
      "10.0\n",
      "==================================\u001b[1m Ai Message \u001b[0m==================================\n",
      "\n",
      "Here are the top AI news articles for September 8, 2025:\n",
      "\n",
      "1. **[Artificial Intelligence - AI News - Reuters](https://www.reuters.com/technology/artificial-intelligence/)**\n",
      "   - Published Time: Mon, 08 Sep 2025\n",
      "   - Summary: Latest AI news, data, and analytics for financial market professionals.\n",
      "\n",
      "2. **[AI News September 2025: In-Depth and Concise - The AI Track](https://theaitrack.com/ai-news-september-2025-in-depth-and-concise/)**\n",
      "   - Summary: A roundup of significant news, trends, and happenings in AI for September, including key points such as:\n",
      "     - Anthropic's $1.5 Billion settlement.\n",
      "     - OpenAI's jobs platform launch in 2026.\n",
      "     - Switzerland's national open-source AI model, Apertus.\n",
      "\n",
      "3. **[The Latest AI News and AI Breakthroughs that Matter Most: 2025 - Crescendo](https://www.crescendo.ai/news/latest-ai-news-and-updates)**\n",
      "   - Summary: Highlights include:\n",
      "     - Reveal HealthTech raises $7.2 million for AI healthcare products.\n",
      "     - A new procedural memory architecture for AI agents improves performance.\n",
      "     - Sam Altman warns about the U.S. underestimating China's AI advancements.\n",
      "\n",
      "4. **[Cramer breaks down the AI chip race between two Club holdings - CNBC](https://www.cnbc.com/video/2025/09/08/monday-september-8-2025-cramer-breaks-down-the-ai-chip-race-between-two-club-holdings.html)**\n",
      "   - Summary: Jim Cramer discusses the market's biggest headlines and the AI chip race.\n",
      "\n",
      "5. **[A.I. Could Make the Smartphone Passé. What Comes Next? - The New York Times](https://www.nytimes.com/2025/09/08/technology/personaltech/ai-iphones-android-smartphones.html)**\n",
      "   - Summary: Exploration of how AI may change the future of smartphones.\n",
      "\n",
      "Additionally, the mathematical operation results are as follows:\n",
      "- The sum of 5 plus 5 is **10**.\n",
      "- Dividing by 10 results in **1**.\n"
     ]
    }
   ],
   "source": [
    "messages=graph.invoke({\"messages\":HumanMessage(content=\"Provide me the top5 ai news for sep 8th 25,add 5 plus 5 and then divide by 10\")})\n",
    "for message in messages['messages']:\n",
    "    message.pretty_print()"
   ]
  },
  {
   "cell_type": "markdown",
   "id": "480362bb",
   "metadata": {},
   "source": [
    "### Agents with Memory\n",
    "- MemorySaver"
   ]
  },
  {
   "cell_type": "code",
   "execution_count": 35,
   "id": "750b429b",
   "metadata": {},
   "outputs": [],
   "source": [
    "class State(TypedDict):\n",
    "    messages:Annotated[list[AnyMessage],add_messages]"
   ]
  },
  {
   "cell_type": "code",
   "execution_count": 36,
   "id": "7abf1003",
   "metadata": {},
   "outputs": [
    {
     "data": {
      "image/png": "[encoded data removed]",
      "text/plain": [
       "<IPython.core.display.Image object>"
      ]
     },
     "metadata": {},
     "output_type": "display_data"
    }
   ],
   "source": [
    "from IPython.display import Image,display\n",
    "from langgraph.graph import StateGraph,START,END\n",
    "from langgraph.prebuilt import ToolNode\n",
    "from langgraph.prebuilt import tools_condition\n",
    "##\n",
    "from langgraph.checkpoint.memory import MemorySaver\n",
    "\n",
    "\n",
    "memory=MemorySaver()\n",
    "\n",
    "def tool_calling_llm(state:State):\n",
    "    return {\"messages\":[llm_with_tools.invoke(state[\"messages\"])]}\n",
    "\n",
    "builder=StateGraph(State)\n",
    "builder.add_node(\"tool_calling_llm\",tool_calling_llm)\n",
    "builder.add_node(\"tools\",ToolNode(tools))\n",
    "\n",
    "builder.add_edge(START,\"tool_calling_llm\")\n",
    "builder.add_conditional_edges(\n",
    "    \"tool_calling_llm\",\n",
    "    tools_condition\n",
    ")\n",
    "\n",
    "builder.add_edge(\"tools\",\"tool_calling_llm\")\n",
    "\n",
    "graph_memory=builder.compile(checkpointer=memory)\n",
    "\n",
    "display(Image(graph_memory.get_graph().draw_mermaid_png()))"
   ]
  },
  {
   "cell_type": "code",
   "execution_count": 37,
   "id": "d26534c5",
   "metadata": {},
   "outputs": [
    {
     "name": "stdout",
     "output_type": "stream",
     "text": [
      "================================\u001b[1m Human Message \u001b[0m=================================\n",
      "\n",
      "Add 5 plus 7\n",
      "==================================\u001b[1m Ai Message \u001b[0m==================================\n",
      "Tool Calls:\n",
      "  add (call_LJVMwZTDBJb2AXtF929QUY1I)\n",
      " Call ID: call_LJVMwZTDBJb2AXtF929QUY1I\n",
      "  Args:\n",
      "    a: 5\n",
      "    b: 7\n",
      "=================================\u001b[1m Tool Message \u001b[0m=================================\n",
      "Name: add\n",
      "\n",
      "12.0\n",
      "==================================\u001b[1m Ai Message \u001b[0m==================================\n",
      "\n",
      "5 plus 7 equals 12.\n"
     ]
    }
   ],
   "source": [
    "## specify the thread\n",
    "\n",
    "\n",
    "config={\"configurable\":{\"thread_id\":\"1\"}}\n",
    "\n",
    "messages=[HumanMessage(content=\"Add 5 plus 7\")]\n",
    "messages=graph_memory.invoke({\"messages\":messages},config=config)\n",
    "for message in messages[\"messages\"]:\n",
    "    message.pretty_print()"
   ]
  },
  {
   "cell_type": "code",
   "execution_count": 38,
   "id": "ea262b3b",
   "metadata": {},
   "outputs": [
    {
     "name": "stdout",
     "output_type": "stream",
     "text": [
      "================================\u001b[1m Human Message \u001b[0m=================================\n",
      "\n",
      "Add 5 plus 7\n",
      "==================================\u001b[1m Ai Message \u001b[0m==================================\n",
      "Tool Calls:\n",
      "  add (call_LJVMwZTDBJb2AXtF929QUY1I)\n",
      " Call ID: call_LJVMwZTDBJb2AXtF929QUY1I\n",
      "  Args:\n",
      "    a: 5\n",
      "    b: 7\n",
      "=================================\u001b[1m Tool Message \u001b[0m=================================\n",
      "Name: add\n",
      "\n",
      "12.0\n",
      "==================================\u001b[1m Ai Message \u001b[0m==================================\n",
      "\n",
      "5 plus 7 equals 12.\n",
      "================================\u001b[1m Human Message \u001b[0m=================================\n",
      "\n",
      "multiply that number with 2\n",
      "==================================\u001b[1m Ai Message \u001b[0m==================================\n",
      "Tool Calls:\n",
      "  multi (call_IshwhqiCtDdjMfbcdrFw4J62)\n",
      " Call ID: call_IshwhqiCtDdjMfbcdrFw4J62\n",
      "  Args:\n",
      "    a: 12\n",
      "    b: 2\n",
      "=================================\u001b[1m Tool Message \u001b[0m=================================\n",
      "Name: multi\n",
      "\n",
      "24.0\n",
      "==================================\u001b[1m Ai Message \u001b[0m==================================\n",
      "\n",
      "Multiplying 12 by 2 gives you 24.\n"
     ]
    }
   ],
   "source": [
    "messages=[HumanMessage(content=\"multiply that number with 2\")]\n",
    "messages=graph_memory.invoke({\"messages\":messages},config=config)\n",
    "for message in messages[\"messages\"]:\n",
    "    message.pretty_print()"
   ]
  }
 ],
 "metadata": {
  "kernelspec": {
   "display_name": "agenticai_env",
   "language": "python",
   "name": "python3"
  },
  "language_info": {
   "codemirror_mode": {
    "name": "ipython",
    "version": 3
   },
   "file_extension": ".py",
   "mimetype": "text/x-python",
   "name": "python",
   "nbconvert_exporter": "python",
   "pygments_lexer": "ipython3",
   "version": "3.12.11"
  }
 },
 "nbformat": 4,
 "nbformat_minor": 5
}
