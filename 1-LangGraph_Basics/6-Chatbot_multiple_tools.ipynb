{
 "cells": [
  {
   "cell_type": "code",
   "execution_count": 1,
   "id": "82479485",
   "metadata": {},
   "outputs": [],
   "source": [
    "from langchain_community.tools import ArxivQueryRun,WikipediaQueryRun\n",
    "from langchain_community.utilities import WikipediaAPIWrapper,ArxivAPIWrapper"
   ]
  },
  {
   "cell_type": "code",
   "execution_count": 3,
   "id": "5ff6bf0e",
   "metadata": {},
   "outputs": [
    {
     "name": "stdout",
     "output_type": "stream",
     "text": [
      "arxiv\n"
     ]
    }
   ],
   "source": [
    "api_wrapper_arxiv=ArxivAPIWrapper(top_k_results=2,doc_content_chars_max=500)\n",
    "arxiv=ArxivQueryRun(api_wrapper=api_wrapper_arxiv)\n",
    "print(arxiv.name)"
   ]
  },
  {
   "cell_type": "code",
   "execution_count": 4,
   "id": "d5ea1a97",
   "metadata": {},
   "outputs": [
    {
     "data": {
      "text/plain": [
       "\"Published: 2024-07-22\\nTitle: Attention Is All You Need But You Don't Need All Of It For Inference of Large Language Models\\nAuthors: Georgy Tyukin, Gbetondji J-S Dovonon, Jean Kaddour, Pasquale Minervini\\nSummary: The inference demand for LLMs has skyrocketed in recent months, and serving\\nmodels with low latencies remains challenging due to the quadratic input length\\ncomplexity of the attention layers. In this work, we investigate the effect of\\ndropping MLP and attention layers at inference time o\""
      ]
     },
     "execution_count": 4,
     "metadata": {},
     "output_type": "execute_result"
    }
   ],
   "source": [
    "arxiv.invoke(\"Attention is all you need\")"
   ]
  },
  {
   "cell_type": "code",
   "execution_count": 5,
   "id": "dd73d085",
   "metadata": {},
   "outputs": [
    {
     "data": {
      "text/plain": [
       "'wikipedia'"
      ]
     },
     "execution_count": 5,
     "metadata": {},
     "output_type": "execute_result"
    }
   ],
   "source": [
    "api_wrapper_wiki=WikipediaAPIWrapper(top_k_results=1,doc_content_chars_max=500)\n",
    "wiki=WikipediaQueryRun(api_wrapper=api_wrapper_wiki)\n",
    "wiki.name"
   ]
  },
  {
   "cell_type": "code",
   "execution_count": 7,
   "id": "8306b107",
   "metadata": {},
   "outputs": [
    {
     "data": {
      "text/plain": [
       "'Page: Machine learning\\nSummary: Machine learning (ML) is a field of study in artificial intelligence concerned with the development and study of statistical algorithms that can learn from data and generalise to unseen data, and thus perform tasks without explicit instructions. Within a subdiscipline in machine learning, advances in the field of deep learning have allowed neural networks, a class of statistical algorithms, to surpass many previous machine learning approaches in performance.\\nML fi'"
      ]
     },
     "execution_count": 7,
     "metadata": {},
     "output_type": "execute_result"
    }
   ],
   "source": [
    "wiki.invoke('What is machine learning?')"
   ]
  },
  {
   "cell_type": "code",
   "execution_count": 9,
   "id": "51d0ce66",
   "metadata": {},
   "outputs": [],
   "source": [
    "from dotenv import load_dotenv\n",
    "load_dotenv()\n",
    "\n",
    "import os\n",
    "os.environ['TAVILTY_API_KEY']=os.getenv('TAVILY_API_KEY')\n",
    "os.environ['GROQ_API_KEY']=os.getenv('GROQ_API_KEY')\n"
   ]
  },
  {
   "cell_type": "code",
   "execution_count": 10,
   "id": "c9b356fe",
   "metadata": {},
   "outputs": [
    {
     "name": "stderr",
     "output_type": "stream",
     "text": [
      "/tmp/ipykernel_76229/3543858584.py:2: LangChainDeprecationWarning: The class `TavilySearchResults` was deprecated in LangChain 0.3.25 and will be removed in 1.0. An updated version of the class exists in the :class:`~langchain-tavily package and should be used instead. To use it run `pip install -U :class:`~langchain-tavily` and import as `from :class:`~langchain_tavily import TavilySearch``.\n",
      "  tavily=TavilySearchResults()\n"
     ]
    }
   ],
   "source": [
    "from langchain_community.tools.tavily_search import TavilySearchResults\n",
    "tavily=TavilySearchResults()"
   ]
  },
  {
   "cell_type": "code",
   "execution_count": 11,
   "id": "cca9be42",
   "metadata": {},
   "outputs": [
    {
     "data": {
      "text/plain": [
       "[{'title': 'AI News September 6 2025, The Pulse And The Pattern',\n",
       "  'url': 'https://binaryverseai.com/ai-news-september-6-2025/',\n",
       "  'content': '← Back to all AI News\\n\\n### 1) What new ChatGPT features did OpenAI ship this week?\\n\\nOpenAI added Branch in new chat on the web so you can fork any message into a separate conversation that inherits context. It also opened Projects to the Free tier with file limits by plan, and it expanded Codex across IDEs, the CLI, GitHub, and the iOS app with single sign in via your ChatGPT account. [...] Here’s your map of the terrain in AI news September 6 2025. Twenty three stories. Each one sharp, compact, and anchored in how the change shows up in real life. Read on, then pass it to the one teammate who still believes they can catch up tomorrow.\\n\\n## Table of Contents\\n\\n## 1. OpenAI, Branch Chats, Projects For All, Codex Everywhere [...] ## 15. Broadcom Pops On A 10B Mystery AI Order\\n\\nBroadcom’s quarter beat on revenue and earnings, then a new 10 billion dollar custom accelerator order dropped into guidance. The stock jumped. AI revenue climbed fast and management lifted the outlook again. A fourth hyperscale customer is buying XPUs at production scale with shipments ramping in 2026. The networking business that stitches clusters together is growing with it. The VMware software piece keeps cash flow strong.',\n",
       "  'score': 0.75442725},\n",
       " {'title': 'AI News & Artificial Intelligence - TechCrunch',\n",
       "  'url': 'https://techcrunch.com/category/artificial-intelligence/',\n",
       "  'content': '### Fashion platform Vivrelle partners with luxury retailers to offer personalized AI styling tool ‘Ella’\\n\\nSam Altman, chief executive officer of OpenAI\\n\\n### OpenAI announces AI-powered hiring platform to take on LinkedIn\\n\\nHarish Abbott, Augment\\n\\n### AI logistics startup Augment, from Deliverr’s founder, raises massive $85M Series A\\n\\nGoogle Photos app icon\\n\\n### Google Photos upgrades its image-to-video feature with Veo 3\\n\\nLambda\\n\\n### Cloud provider Lambda may be gearing up for an IPO [...] Contact Us\\n\\n# AI\\n\\nNews coverage on artificial intelligence and machine learning tech, the companies building them, and the ethical issues AI raises today. This encompasses generative AI, including large language models, text-to-image and text-to-video models; speech recognition and generation; and predictive analytics.\\n\\n### \\n\\n### Amazon Music’s new AI feature generates personalized playlists every Monday\\n\\nRobot answering customer service inquiries. [...] ### Scale AI’s former CTO launches AI agent that could solve big data’s biggest problem\\n\\nScale AI’s former CTO launches AI agent that could solve big data’s biggest problem\\n\\n### OpenAI announces AI-powered hiring platform to take on LinkedIn\\n\\nOpenAI announces AI-powered hiring platform to take on LinkedIn\\n\\n### Google brings Material 3 Expressive to Pixel 6 and newer devices, along with other features\\n\\nGoogle brings Material 3 Expressive to Pixel 6 and newer devices, along with other features',\n",
       "  'score': 0.75268626},\n",
       " {'title': 'Artificial Intelligence - AI News - Reuters',\n",
       "  'url': 'https://www.reuters.com/technology/artificial-intelligence/',\n",
       "  'content': '# Artificial Intelligence\\n\\nHow Artificial Intelligence is creating the next normal\\n\\nAnalytics firm Databricks was on track to hit $4 billion in annual revenue, up more than 50% from the prior year, on the back of surging demand for its AI products.\\n\\nIllustration shows Databricks logo\\n\\n## Reuters Events Logo\\n\\nReuters Events Logo\\n\\nEvent\\n\\n28-29 Apr 2025 · New York, USA\\n\\nArtificial Intelligence silicon chip with Reuters logo\\n\\nEvent\\n\\n15-16 Jul 2025 · San Jose, USA [...] Artificial Intelligence Chip with Reuters logo\\n\\nEvent\\n\\n17 Sep 2025 · Singapore, USA\\n\\nArtificial Intelligence silicon chip with Reuters logo\\n\\nEvent\\n\\n29-30 Sep 2025 · London, UK\\n\\nArtificial Intelligence Chip with Reuters logo\\n\\n## More Coverage\\n\\n## Site Index\\n\\n## Browse\\n\\n## About Reuters\\n\\n## Stay Informed\\n\\n## Information you can trust [...] ### Workspace, opens new tab Access unmatched financial data, news and content in a highly-customised workflow experience on desktop, web and mobile.\\n\\nAccess unmatched financial data, news and content in a highly-customised workflow experience on desktop, web and mobile.\\n\\n### Data Catalogue, opens new tab Browse an unrivalled portfolio of real-time and historical market data and insights from worldwide sources and experts.',\n",
       "  'score': 0.7295395},\n",
       " {'title': \"AI has no idea what it's doing, but it's threatening us all | ScienceDaily\",\n",
       "  'url': 'https://www.sciencedaily.com/releases/2025/09/250907172635.htm',\n",
       "  'content': \"Currently, the world's three dominant digital powers - the United States, China, and the European Union - are taking markedly different approaches to AI, leaning on market-centric, state-centric, and human-centric models respectively.\\n\\nDr Randazzo said the EU's human-centric approach is the preferred path to protect human dignity but without a global commitment to this goal, even that approach falls short. [...] ScienceDaily\\n\\n# AI has no idea what it’s doing, but it’s threatening us all\\n\\nAI Has No Idea What It’s Doing\\n\\nThe age of artificial intelligence (AI) has transformed our interactions, but threatens human dignity on a worldwide scale, according to a study led by Charles Darwin University (CDU).\",\n",
       "  'score': 0.6917478},\n",
       " {'title': 'AI Update, September 5, 2025: AI News and Views From the Past ...',\n",
       "  'url': 'https://www.marketingprofs.com/opinions/2025/53657/ai-update-september-5-2025-ai-news-and-views-from-the-past-week',\n",
       "  'content': \"Microsoft rolls out in-house AI models to compete with OpenAI. Microsoft unveiled MAI-Voice-1, a speech-generation model, and MAI-1-preview, its first fully in-house language model trained on 15,000 Nvidia H100 GPUs. MAI-Voice-1 is already integrated into Copilot Daily and Labs, while MAI-1-preview is available on LMArena for public testing. The move reflects Microsoft's push for independence amid tension with OpenAI. Importance for marketers: Microsoft's shift to its own AI stack could reshape [...] Tencent debuts Voyager, an AI that turns photos into 3D worlds. Tencent released Voyager, an AI for generating explorable 3D worlds from photos. While it achieved benchmark highs in style consistency, its heavy compute requirements (60GB+ GPU) and licensing restrictions limit deployment. Importance for marketers: Interesting for future immersive campaigns but impractical now due to cost and technical barriers.\\n\\nYou can find the previous issue of AI Update here. [...] OpenAI and Meta adjust chatbot responses for teens in distress. OpenAI and Meta are updating chatbots to better handle teen mental health crises. OpenAI will add parental controls with account linking and distress alerts, while Meta blocks discussions of self-harm and directs teens to expert resources. The move follows a lawsuit over a teen suicide involving ChatGPT. RAND research found inconsistent responses across chatbots, underscoring the need for standards. Importance for marketers: Rising\",\n",
       "  'score': 0.68798697}]"
      ]
     },
     "execution_count": 11,
     "metadata": {},
     "output_type": "execute_result"
    }
   ],
   "source": [
    "tavily.invoke(\"Current AI news\")"
   ]
  },
  {
   "cell_type": "code",
   "execution_count": 12,
   "id": "e11d612f",
   "metadata": {},
   "outputs": [],
   "source": [
    "tools=[arxiv,wiki,tavily]"
   ]
  },
  {
   "cell_type": "code",
   "execution_count": 18,
   "id": "6dd557bf",
   "metadata": {},
   "outputs": [],
   "source": [
    "from langchain_groq import ChatGroq\n",
    "llm=ChatGroq(model='gemma2-9b-it')\n",
    "llm_with_tools=llm.bind_tools(tools)"
   ]
  },
  {
   "cell_type": "code",
   "execution_count": 19,
   "id": "a1b4e039",
   "metadata": {},
   "outputs": [],
   "source": [
    "from langchain_core.messages import HumanMessage,AIMessage"
   ]
  },
  {
   "cell_type": "code",
   "execution_count": 21,
   "id": "cea51df4",
   "metadata": {},
   "outputs": [
    {
     "data": {
      "text/plain": [
       "[{'name': 'tavily_search_results_json',\n",
       "  'args': {'query': 'recent AI news'},\n",
       "  'id': 'xksgppkdk',\n",
       "  'type': 'tool_call'}]"
      ]
     },
     "execution_count": 21,
     "metadata": {},
     "output_type": "execute_result"
    }
   ],
   "source": [
    "llm_with_tools.invoke([HumanMessage(content=f\"What is the recent AI news\")]).tool_calls"
   ]
  },
  {
   "cell_type": "code",
   "execution_count": 23,
   "id": "b7169ccf",
   "metadata": {},
   "outputs": [],
   "source": [
    "from IPython.display import Image,display\n",
    "from langgraph.graph import StateGraph,START,END\n",
    "from langgraph.prebuilt import ToolNode, tools_condition\n",
    "from typing_extensions import TypedDict\n",
    "from langgraph.graph.message import add_messages,AnyMessage\n",
    "from typing import Annotated\n",
    "\n",
    "class State(TypedDict):\n",
    "    messages:Annotated[list[AnyMessage],add_messages]"
   ]
  },
  {
   "cell_type": "code",
   "execution_count": 24,
   "id": "787509f3",
   "metadata": {},
   "outputs": [
    {
     "data": {
      "image/png": "[encoded data removed]",
      "text/plain": [
       "<IPython.core.display.Image object>"
      ]
     },
     "metadata": {},
     "output_type": "display_data"
    }
   ],
   "source": [
    "def tool_calling_llm(state:State):\n",
    "    return {\"messages\":[llm_with_tools.invoke(state[\"messages\"])]}\n",
    "\n",
    "\n",
    "builder=StateGraph(State)\n",
    "builder.add_node(\"tool_calling_llm\",tool_calling_llm)\n",
    "builder.add_node(\"tools\",ToolNode(tools))\n",
    "\n",
    "builder.add_edge(START,\"tool_calling_llm\")\n",
    "builder.add_conditional_edges(\n",
    "    \"tool_calling_llm\",\n",
    "    tools_condition\n",
    ")\n",
    "\n",
    "builder.add_edge(\"tools\",END)\n",
    "\n",
    "\n",
    "\n",
    "graph=builder.compile()\n",
    "display(Image(graph.get_graph().draw_mermaid_png()))"
   ]
  },
  {
   "cell_type": "code",
   "execution_count": 27,
   "id": "bffbeaf1",
   "metadata": {},
   "outputs": [],
   "source": [
    "from pprint import pprint"
   ]
  },
  {
   "cell_type": "code",
   "execution_count": 29,
   "id": "9abacf01",
   "metadata": {},
   "outputs": [
    {
     "name": "stdout",
     "output_type": "stream",
     "text": [
      "================================\u001b[1m Human Message \u001b[0m=================================\n",
      "\n",
      "1706.03762\n",
      "==================================\u001b[1m Ai Message \u001b[0m==================================\n",
      "Tool Calls:\n",
      "  arxiv (am6fm3n80)\n",
      " Call ID: am6fm3n80\n",
      "  Args:\n",
      "    query: 1706.03762\n",
      "=================================\u001b[1m Tool Message \u001b[0m=================================\n",
      "Name: arxiv\n",
      "\n",
      "Published: 2023-08-02\n",
      "Title: Attention Is All You Need\n",
      "Authors: Ashish Vaswani, Noam Shazeer, Niki Parmar, Jakob Uszkoreit, Llion Jones, Aidan N. Gomez, Lukasz Kaiser, Illia Polosukhin\n",
      "Summary: The dominant sequence transduction models are based on complex recurrent or\n",
      "convolutional neural networks in an encoder-decoder configuration. The best\n",
      "performing models also connect the encoder and decoder through an attention\n",
      "mechanism. We propose a new simple network architecture, the Transformer, base\n"
     ]
    }
   ],
   "source": [
    "messages=graph.invoke({\"messages\":HumanMessage(content=\"1706.03762\")})\n",
    "for message in messages['messages']:\n",
    "    message.pretty_print()"
   ]
  },
  {
   "cell_type": "code",
   "execution_count": 30,
   "id": "3443774f",
   "metadata": {},
   "outputs": [
    {
     "name": "stdout",
     "output_type": "stream",
     "text": [
      "================================\u001b[1m Human Message \u001b[0m=================================\n",
      "\n",
      "Provide me the top5 ai news for sep 8th 25\n",
      "==================================\u001b[1m Ai Message \u001b[0m==================================\n",
      "Tool Calls:\n",
      "  tavily_search_results_json (7hdd774ac)\n",
      " Call ID: 7hdd774ac\n",
      "  Args:\n",
      "    query: top 5 ai news for september 8th 2023\n",
      "=================================\u001b[1m Tool Message \u001b[0m=================================\n",
      "Name: tavily_search_results_json\n",
      "\n",
      "[{\"title\": \"Top AI News, September 2023 - Everypixel Journal\", \"url\": \"https://journal.everypixel.com/top-ai-news-september-2023\", \"content\": \"Image 1: Top AI News, September 2023 Image 2: Top AI News, September 2023 **Meta AI:**An advanced conversational assistant available within personal chats on WhatsApp, Messenger, and Instagram.Meta AIhas access to real-time information and offers a tool for image generation. Image 3: Top AI News, September 2023 Image 4: Top AI News, September 2023 Image 5: Top AI News, September 2023 Image 6: Top AI News, September 2023 Image 7: Top AI News, September 2023 Image 8: Top AI News, September 2023 Image 9: Top AI News, September 2023 Image 10: Top AI News, September 2023 AI, AI content creation, AI news, AI tools, ChatGPT, DALL-E, Facebook, generative AI tools, GitHub, Meta, Microsoft, OpenAI, Stability AI\", \"score\": 0.98554}, {\"title\": \"Explore What's New September 2023: Latest Features - Android\", \"url\": \"https://www.android.com/google-features-on-android/september-2023/\", \"content\": \"The AI-powered Assistant At a Glance widget intuitively surfaces helpful information on your home screen. Get high-precision weather alerts, dynamic travel\", \"score\": 0.98395}, {\"title\": \"September AI Spotlight: Top 6 Stories in Recent AI News - Neudesic\", \"url\": \"https://www.neudesic.com/blog/latest-ai-news-september-2024/\", \"content\": \"This blog covers recent breakthroughs like OpenAI’s new o1 reasoning model, Microsoft’s new AI features, and Apple’s global AI rollout. * AI technologies are advancing rapidly, enhancing industries from healthcare to entertainment while raising concerns about job market shifts and misinformation. Next, we explore exciting AI developments: OpenAI’s o1 model, Microsoft’s Copilot agents, Apple’s global rollout of Apple Intelligence, and robotics with human-like muscles. This achievement not only highlights the potential of AI to perform complex intellectual tasks but also underscores the rapid advancements being made in the field of artificial intelligence. Users will be able to utilize the ‘About this image’ new feature to check if images contain gen AI or altered content, enhancing their understanding of the information they encounter.\", \"score\": 0.97588}, {\"title\": \"Go Viral With These Marketing Trends and AI News: September 8\", \"url\": \"https://vavoza.com/go-viral-with-these-marketing-trends-and-ai-news-september-8-2025-vz5/\", \"content\": \"Go Viral With These Marketing Trends and AI News: September 8 **Go Viral With These Marketing Trends and AI News: September 8** Here are the latest digital marketing trends, content ideas, trending Google searches, and AI news on September 8, 2025: *   **The AI Era** is a viral marketing trend. **Subscribe to Vavoza Insider**to access the latest business and marketing insights, news, and trends daily with unmatched speed and conciseness! Image 8: Vavoza Insider Subscribe to access the latest business and marketing insights, news, and trends daily with unmatched speed and conciseness ### Go Viral With These Marketing Trends and AI News: September 8 ### 20 Content Trends and Video Ideas To Go Viral In September 2025 Image 21: VAVOZA\", \"score\": 0.97553}, {\"title\": \"AI Catalyst: Highlights of September 2023 - LinkedIn\", \"url\": \"https://www.linkedin.com/pulse/ai-catalyst-highlights-september-2023-alan-wunsche\", \"content\": \"1. LLaVA Unleashed: A General-Purpose Visual and Language AI! Bridging the gap between visual and textual data, this AI's applications are\", \"score\": 0.9708}]\n"
     ]
    }
   ],
   "source": [
    "messages=graph.invoke({\"messages\":HumanMessage(content=\"Provide me the top5 ai news for sep 8th 25\")})\n",
    "for message in messages['messages']:\n",
    "    message.pretty_print()"
   ]
  },
  {
   "cell_type": "code",
   "execution_count": 31,
   "id": "0fd541a6",
   "metadata": {},
   "outputs": [
    {
     "name": "stdout",
     "output_type": "stream",
     "text": [
      "================================\u001b[1m Human Message \u001b[0m=================================\n",
      "\n",
      "Who is kr$na\n",
      "==================================\u001b[1m Ai Message \u001b[0m==================================\n",
      "Tool Calls:\n",
      "  wikipedia (cqhp9y8fr)\n",
      " Call ID: cqhp9y8fr\n",
      "  Args:\n",
      "    query: kr$na\n",
      "=================================\u001b[1m Tool Message \u001b[0m=================================\n",
      "Name: wikipedia\n",
      "\n",
      "Page: KRSNA (rapper)\n",
      "Summary: Krishna Kaul, known mononymously as Krishna, stylised now as KR$NA, (previously as Krsna; known formerly as YoungProzpekt) is an Indian rapper. He was one of the earliest rappers to emerge in the Indian hip hop scene in the mid-2000s under the stage name Prozpekt. He is widely acknowledged within the Desi hip-hop community for pioneering a lyrical revolution in the genre, infusing a new wave of poetic depth and lyrical complexity into hip-hop's narrative. He was als\n"
     ]
    }
   ],
   "source": [
    "messages=graph.invoke({\"messages\":HumanMessage(content=\"Who is kr$na\")})\n",
    "for message in messages['messages']:\n",
    "    message.pretty_print()"
   ]
  }
 ],
 "metadata": {
  "kernelspec": {
   "display_name": "agenticai_env",
   "language": "python",
   "name": "python3"
  },
  "language_info": {
   "codemirror_mode": {
    "name": "ipython",
    "version": 3
   },
   "file_extension": ".py",
   "mimetype": "text/x-python",
   "name": "python",
   "nbconvert_exporter": "python",
   "pygments_lexer": "ipython3",
   "version": "3.12.11"
  }
 },
 "nbformat": 4,
 "nbformat_minor": 5
}
