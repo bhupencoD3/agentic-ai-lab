{
 "cells": [
  {
   "cell_type": "code",
   "execution_count": 48,
   "id": "d0a067fd",
   "metadata": {},
   "outputs": [],
   "source": [
    "from dotenv import load_dotenv\n",
    "load_dotenv()\n",
    "\n",
    "import os\n",
    "os.environ[\"OPENAI_API_KEY\"]=os.getenv(\"OPENAI_API_KEY\")\n",
    "os.environ[\"GROQ_API_KEY\"]=os.getenv(\"GROQ_API_KEY\")\n"
   ]
  },
  {
   "cell_type": "code",
   "execution_count": 49,
   "id": "5c9e2fd7",
   "metadata": {},
   "outputs": [
    {
     "name": "stdout",
     "output_type": "stream",
     "text": [
      "==================================\u001b[1m Ai Message \u001b[0m==================================\n",
      "Name: LLM_Model\n",
      "\n",
      "Please tell me how can i help?\n",
      "================================\u001b[1m Human Message \u001b[0m=================================\n",
      "Name: bhupen\n",
      "\n",
      "I Want to learn coding\n",
      "==================================\u001b[1m Ai Message \u001b[0m==================================\n",
      "Name: LLM_Model\n",
      "\n",
      "Which programming language you want to learn\n",
      "================================\u001b[1m Human Message \u001b[0m=================================\n",
      "Name: bhupen\n",
      "\n",
      "I would love to learn python and ai\n"
     ]
    }
   ],
   "source": [
    "from langchain_core.messages import AIMessage,HumanMessage\n",
    "from pprint import pprint\n",
    "\n",
    "messages=[AIMessage(content=f\"Please tell me how can i help?\",name=\"LLM_Model\")]\n",
    "messages.append(HumanMessage(content=f\"I Want to learn coding\",name=\"bhupen\"))\n",
    "messages.append(AIMessage(content=f\"Which programming language you want to learn\",name=\"LLM_Model\"))\n",
    "messages.append(HumanMessage(content=f\"I would love to learn python and ai\",name=\"bhupen\"))\n",
    "\n",
    "\n",
    "for message in messages:\n",
    "    message.pretty_print()"
   ]
  },
  {
   "cell_type": "code",
   "execution_count": 51,
   "id": "a6d971dd",
   "metadata": {},
   "outputs": [],
   "source": [
    "from langchain_openai import ChatOpenAI\n",
    "llm=ChatOpenAI(model='gpt-4o-mini')\n",
    "result=llm.invoke(messages)"
   ]
  },
  {
   "cell_type": "code",
   "execution_count": 52,
   "id": "0df46a8c",
   "metadata": {},
   "outputs": [
    {
     "data": {
      "text/plain": [
       "{'token_usage': {'completion_tokens': 603,\n",
       "  'prompt_tokens': 63,\n",
       "  'total_tokens': 666,\n",
       "  'completion_tokens_details': {'accepted_prediction_tokens': 0,\n",
       "   'audio_tokens': 0,\n",
       "   'reasoning_tokens': 0,\n",
       "   'rejected_prediction_tokens': 0},\n",
       "  'prompt_tokens_details': {'audio_tokens': 0, 'cached_tokens': 0}},\n",
       " 'model_name': 'gpt-4o-mini-2024-07-18',\n",
       " 'system_fingerprint': 'fp_8bda4d3a2c',\n",
       " 'id': 'chatcmpl-CDWdN7zlnEqYr7ZDl3pYaRUSoS6BT',\n",
       " 'service_tier': 'default',\n",
       " 'finish_reason': 'stop',\n",
       " 'logprobs': None}"
      ]
     },
     "execution_count": 52,
     "metadata": {},
     "output_type": "execute_result"
    }
   ],
   "source": [
    "result.response_metadata"
   ]
  },
  {
   "cell_type": "code",
   "execution_count": 9,
   "id": "4598c940",
   "metadata": {},
   "outputs": [],
   "source": [
    "def add(a,b):\n",
    "    \"\"\"Add a and b\n",
    "    \n",
    "    Args:\n",
    "    a (int) first int\n",
    "    b (int) second int\n",
    "    \n",
    "    Returns:\n",
    "        int\n",
    "    \"\"\"\n",
    "    return a+b"
   ]
  },
  {
   "cell_type": "code",
   "execution_count": 10,
   "id": "1d07dec7",
   "metadata": {},
   "outputs": [
    {
     "data": {
      "text/plain": [
       "ChatGroq(client=<groq.resources.chat.completions.Completions object at 0x7f03c37b10a0>, async_client=<groq.resources.chat.completions.AsyncCompletions object at 0x7f03c37b1be0>, model_name='gemma2-9b-it', model_kwargs={}, groq_api_key=SecretStr('**********'))"
      ]
     },
     "execution_count": 10,
     "metadata": {},
     "output_type": "execute_result"
    }
   ],
   "source": [
    "llm"
   ]
  },
  {
   "cell_type": "code",
   "execution_count": 53,
   "id": "dca8b3ed",
   "metadata": {},
   "outputs": [],
   "source": [
    "## binding tool with llm\n",
    "\n",
    "llm_with_tools=llm.bind_tools([add])\n",
    "\n",
    "tool_calls=llm_with_tools.invoke([HumanMessage(content=f\"What is 45 plus 55\",name=\"bhupen\")])"
   ]
  },
  {
   "cell_type": "code",
   "execution_count": 54,
   "id": "55253379",
   "metadata": {},
   "outputs": [
    {
     "data": {
      "text/plain": [
       "[{'name': 'add',\n",
       "  'args': {'a': 45, 'b': 55},\n",
       "  'id': 'call_U3GEX7wj8UQGoGIhwfIelu7z',\n",
       "  'type': 'tool_call'}]"
      ]
     },
     "execution_count": 54,
     "metadata": {},
     "output_type": "execute_result"
    }
   ],
   "source": [
    "tool_calls.tool_calls"
   ]
  },
  {
   "cell_type": "code",
   "execution_count": 18,
   "id": "4f36ec93",
   "metadata": {},
   "outputs": [],
   "source": [
    "### using messages as set\n",
    "from typing_extensions import TypedDict\n",
    "from typing import Annotated\n",
    "from langchain_core.messages import AnyMessage\n",
    "from langgraph.graph.message import add_messages\n",
    "\n",
    "class State(TypedDict):\n",
    "    messages:Annotated[list[AnyMessage],add_messages]\n",
    "    name:str"
   ]
  },
  {
   "cell_type": "code",
   "execution_count": 15,
   "id": "1a3088a5",
   "metadata": {},
   "outputs": [
    {
     "data": {
      "text/plain": [
       "[AIMessage(content='Please tell me how can i help?', additional_kwargs={}, response_metadata={}, name='LLM_Model'),\n",
       " HumanMessage(content='I Want to learn coding', additional_kwargs={}, response_metadata={}, name='bhupen')]"
      ]
     },
     "execution_count": 15,
     "metadata": {},
     "output_type": "execute_result"
    }
   ],
   "source": [
    "initial_messages=[AIMessage(content=f\"Please tell me how can i help?\",name=\"LLM_Model\")]\n",
    "initial_messages.append(HumanMessage(content=f\"I Want to learn coding\",name=\"bhupen\"))\n",
    "initial_messages"
   ]
  },
  {
   "cell_type": "code",
   "execution_count": 16,
   "id": "e4b983a5",
   "metadata": {},
   "outputs": [
    {
     "data": {
      "text/plain": [
       "AIMessage(content='Which programming language you want to learn', additional_kwargs={}, response_metadata={}, name='LLM_Model')"
      ]
     },
     "execution_count": 16,
     "metadata": {},
     "output_type": "execute_result"
    }
   ],
   "source": [
    "ai_message=AIMessage(content=f\"Which programming language you want to learn\",name=\"LLM_Model\")\n",
    "ai_message"
   ]
  },
  {
   "cell_type": "code",
   "execution_count": 17,
   "id": "718a06ea",
   "metadata": {},
   "outputs": [
    {
     "data": {
      "text/plain": [
       "[AIMessage(content='Please tell me how can i help?', additional_kwargs={}, response_metadata={}, name='LLM_Model', id='e7a61137-cf46-4379-b882-980fdcebb64a'),\n",
       " HumanMessage(content='I Want to learn coding', additional_kwargs={}, response_metadata={}, name='bhupen', id='4a41fe2b-4f30-4ff8-9ebb-e40bcd896b94'),\n",
       " AIMessage(content='Which programming language you want to learn', additional_kwargs={}, response_metadata={}, name='LLM_Model', id='de12a4ee-1f3b-473f-9f46-7a4bbc4ab8d1')]"
      ]
     },
     "execution_count": 17,
     "metadata": {},
     "output_type": "execute_result"
    }
   ],
   "source": [
    "add_messages(initial_messages,ai_message)"
   ]
  },
  {
   "cell_type": "code",
   "execution_count": 36,
   "id": "8c41face",
   "metadata": {},
   "outputs": [],
   "source": [
    "class State(TypedDict):\n",
    "    messages:Annotated[list[AnyMessage],add_messages]\n",
    "    name:str\n",
    "\n",
    "# chatbot node functionality\n",
    "def llm_tool(state:State):\n",
    "    return {\"messages\":[llm_with_tools.invoke(state[\"messages\"])]}\n",
    "\n",
    "def add(a,b):\n",
    "    \"\"\"Add a and b\n",
    "    \n",
    "    Args:\n",
    "    a (int) first int\n",
    "    b (int) second int\n",
    "    \n",
    "    Returns:\n",
    "        int\n",
    "    \"\"\"\n",
    "    return a+b\n"
   ]
  },
  {
   "cell_type": "code",
   "execution_count": 23,
   "id": "8da14abb",
   "metadata": {},
   "outputs": [
    {
     "data": {
      "image/png": "[encoded data removed]",
      "text/plain": [
       "<IPython.core.display.Image object>"
      ]
     },
     "metadata": {},
     "output_type": "display_data"
    }
   ],
   "source": [
    "from IPython.display import Image,display\n",
    "from langgraph.graph import StateGraph,START,END\n",
    "builder=StateGraph(State)\n",
    "\n",
    "builder.add_node(\"llm_tool\",llm_tool)\n",
    "builder.add_edge(START,\"llm_tool\")\n",
    "builder.add_edge(\"llm_tool\",END)\n",
    "\n",
    "graph=builder.compile()\n",
    "display(Image(graph.get_graph().draw_mermaid_png()))"
   ]
  },
  {
   "cell_type": "code",
   "execution_count": 25,
   "id": "a39f0a01",
   "metadata": {},
   "outputs": [
    {
     "name": "stdout",
     "output_type": "stream",
     "text": [
      "================================\u001b[1m Human Message \u001b[0m=================================\n",
      "\n",
      "What is 22 + 22\n",
      "==================================\u001b[1m Ai Message \u001b[0m==================================\n",
      "Tool Calls:\n",
      "  add (atqmdhnba)\n",
      " Call ID: atqmdhnba\n",
      "  Args:\n",
      "    a: 22\n",
      "    b: 22\n"
     ]
    }
   ],
   "source": [
    "messages=graph.invoke({\"messages\":\"What is 22 + 22\"})\n",
    "\n",
    "for message in messages[\"messages\"]:\n",
    "    message.pretty_print()"
   ]
  },
  {
   "cell_type": "code",
   "execution_count": 55,
   "id": "cd28257f",
   "metadata": {},
   "outputs": [
    {
     "data": {
      "image/png": "[encoded data removed]",
      "text/plain": [
       "<IPython.core.display.Image object>"
      ]
     },
     "metadata": {},
     "output_type": "display_data"
    }
   ],
   "source": [
    "from langgraph.prebuilt import ToolNode\n",
    "from langgraph.prebuilt import tools_condition\n",
    "\n",
    "builder=StateGraph(State)\n",
    "tools=[add]\n",
    "\n",
    "builder.add_node(\"llm_tool\",llm_tool)\n",
    "builder.add_node(\"tools\",ToolNode(tools))\n",
    "\n",
    "builder.add_edge(START,\"llm_tool\")\n",
    "builder.add_conditional_edges(\n",
    "    \"llm_tool\",\n",
    "    # if the latest message (result) from assistant is a tool call -> tools_condition routes to tools\n",
    "    # if the latest message (result) from assistant is not a tool call -> tools_condition routs to END\n",
    "    tools_condition,\n",
    "    \n",
    "    \n",
    ")\n",
    "builder.add_edge(\"tools\",END)\n",
    "\n",
    "\n",
    "\n",
    "graph=builder.compile()\n",
    "\n",
    "display(Image(graph.get_graph().draw_mermaid_png()))"
   ]
  },
  {
   "cell_type": "code",
   "execution_count": 56,
   "id": "03624499",
   "metadata": {},
   "outputs": [
    {
     "name": "stdout",
     "output_type": "stream",
     "text": [
      "================================\u001b[1m Human Message \u001b[0m=================================\n",
      "\n",
      "What is 22 + 22\n",
      "==================================\u001b[1m Ai Message \u001b[0m==================================\n",
      "Tool Calls:\n",
      "  add (call_tqRSjdOnnWDVO4YSaSfZvOYA)\n",
      " Call ID: call_tqRSjdOnnWDVO4YSaSfZvOYA\n",
      "  Args:\n",
      "    a: 22\n",
      "    b: 22\n",
      "=================================\u001b[1m Tool Message \u001b[0m=================================\n",
      "Name: add\n",
      "\n",
      "44\n"
     ]
    }
   ],
   "source": [
    "messages=graph.invoke({\"messages\":\"What is 22 + 22\"})\n",
    "\n",
    "for message in messages[\"messages\"]:\n",
    "    message.pretty_print()"
   ]
  },
  {
   "cell_type": "code",
   "execution_count": 57,
   "id": "4e9249b3",
   "metadata": {},
   "outputs": [
    {
     "name": "stdout",
     "output_type": "stream",
     "text": [
      "================================\u001b[1m Human Message \u001b[0m=================================\n",
      "\n",
      "What is Machine Learning?\n",
      "==================================\u001b[1m Ai Message \u001b[0m==================================\n",
      "\n",
      "Machine Learning (ML) is a subset of artificial intelligence (AI) that focuses on the development of algorithms and statistical models that enable computers to perform specific tasks without explicit instructions. Instead of being programmed to perform a task, machine learning systems use patterns and inference to learn from data.\n",
      "\n",
      "The main components of machine learning include:\n",
      "\n",
      "1. **Data**: The foundation of machine learning. It can be structured (like tables) or unstructured (like text or images). The quality and quantity of data can significantly impact the performance of ML models.\n",
      "\n",
      "2. **Algorithms**: These are mathematical models that process data to learn patterns and make predictions. Common algorithms include decision trees, support vector machines, neural networks, and clustering algorithms.\n",
      "\n",
      "3. **Training**: This is the process of feeding data into a machine learning algorithm so that it can learn from it. The model adjusts its parameters to minimize errors in its predictions.\n",
      "\n",
      "4. **Testing**: After training, the model is evaluated on a separate dataset to assess its performance and generalizability.\n",
      "\n",
      "5. **Prediction**: Once trained and validated, the model can be used to make predictions or decisions based on new, unseen data.\n",
      "\n",
      "Machine learning has a wide array of applications, including image and speech recognition, natural language processing, recommendation systems, fraud detection, and autonomous vehicles, among others. The main types of machine learning include:\n",
      "\n",
      "- **Supervised Learning**: The model is trained on labeled data, which means both the input and the expected output are provided.\n",
      "\n",
      "- **Unsupervised Learning**: The model is trained on unlabeled data and must find patterns and relationships in the input data on its own.\n",
      "\n",
      "- **Reinforcement Learning**: The model learns to make decisions by receiving feedback in the form of rewards or penalties based on its actions.\n",
      "\n",
      "Overall, machine learning focuses on developing systems that can improve their performance over time as they are exposed to more data.\n"
     ]
    }
   ],
   "source": [
    "messages=graph.invoke({\"messages\":\"What is Machine Learning?\"})\n",
    "\n",
    "for message in messages[\"messages\"]:\n",
    "    message.pretty_print()"
   ]
  },
  {
   "cell_type": "code",
   "execution_count": null,
   "id": "3812470a",
   "metadata": {},
   "outputs": [],
   "source": []
  }
 ],
 "metadata": {
  "kernelspec": {
   "display_name": "agenticai_env",
   "language": "python",
   "name": "python3"
  },
  "language_info": {
   "codemirror_mode": {
    "name": "ipython",
    "version": 3
   },
   "file_extension": ".py",
   "mimetype": "text/x-python",
   "name": "python",
   "nbconvert_exporter": "python",
   "pygments_lexer": "ipython3",
   "version": "3.12.11"
  }
 },
 "nbformat": 4,
 "nbformat_minor": 5
}
